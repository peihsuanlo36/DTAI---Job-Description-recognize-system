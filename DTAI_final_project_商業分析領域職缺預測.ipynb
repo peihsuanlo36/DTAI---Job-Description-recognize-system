{
  "cells": [
    {
      "cell_type": "markdown",
      "metadata": {
        "id": "view-in-github",
        "colab_type": "text"
      },
      "source": [
        "<a href=\"https://colab.research.google.com/github/peihsuanlo36/-DTAI-Job-Description-recognize-system/blob/main/DTAI_final_project_%E5%95%86%E6%A5%AD%E5%88%86%E6%9E%90%E9%A0%98%E5%9F%9F%E8%81%B7%E7%BC%BA%E9%A0%90%E6%B8%AC.ipynb\" target=\"_parent\"><img src=\"https://colab.research.google.com/assets/colab-badge.svg\" alt=\"Open In Colab\"/></a>"
      ]
    },
    {
      "cell_type": "markdown",
      "metadata": {
        "id": "QJ7tt3qIIksK"
      },
      "source": [
        "[專案步驟大綱]\n",
        "1. 訓練tokenizer:參考紅樓夢生成器(用pickle存下來)\n",
        "// 將所有resume併成同一個檔案訓練tokenizer\n",
        "2. 切出訓練資料集\n",
        "3. x_train & x_test 用 tokenizer 做轉換\n",
        "4. 視覺化呈現\n",
        "\n"
      ]
    },
    {
      "cell_type": "markdown",
      "metadata": {
        "id": "o5OVddtFqjEQ"
      },
      "source": [
        "# 資料前處理"
      ]
    },
    {
      "cell_type": "markdown",
      "metadata": {
        "id": "pU0MI3Jm-vej"
      },
      "source": [
        "###  讀入深度學習套件"
      ]
    },
    {
      "cell_type": "code",
      "execution_count": null,
      "metadata": {
        "id": "P3yNYyYU-veg"
      },
      "outputs": [],
      "source": [
        "%matplotlib inline\n",
        "import numpy as np\n",
        "import pandas as pd\n",
        "import matplotlib.pyplot as plt\n",
        "import tensorflow as tf"
      ]
    },
    {
      "cell_type": "code",
      "execution_count": null,
      "metadata": {
        "id": "yGQHjFkg-vek"
      },
      "outputs": [],
      "source": [
        "from tensorflow.keras.preprocessing import sequence\n",
        "from tensorflow.keras.models import Sequential\n",
        "from tensorflow.keras.layers import Dense, Embedding, LSTM, TimeDistributed\n",
        "from tensorflow.keras.layers import LSTM\n",
        "from tensorflow.keras.preprocessing.text import Tokenizer\n",
        "from tensorflow.keras.utils import to_categorical"
      ]
    },
    {
      "cell_type": "markdown",
      "metadata": {
        "id": "PTCsRUM5VqGi"
      },
      "source": [
        "### 訓練 Tokenizer"
      ]
    },
    {
      "cell_type": "code",
      "execution_count": null,
      "metadata": {
        "colab": {
          "base_uri": "https://localhost:8080/"
        },
        "id": "PMPB3W2OHAT5",
        "outputId": "c280a616-9f17-4e3a-f3da-367970b770b8"
      },
      "outputs": [
        {
          "output_type": "stream",
          "name": "stdout",
          "text": [
            "Drive already mounted at /content/drive; to attempt to forcibly remount, call drive.mount(\"/content/drive\", force_remount=True).\n"
          ]
        }
      ],
      "source": [
        "## 從Google Cloud call txt file\n",
        "from google.colab import drive\n",
        "drive.mount('/content/drive')\n",
        "path = '/content/drive/MyDrive/110-1 學期用/110-1 設計思考與人工智慧/final project/tokenizer0111.txt'\n",
        "f= open(path,'r')"
      ]
    },
    {
      "cell_type": "code",
      "execution_count": null,
      "metadata": {
        "id": "nA9KsXWk_beO",
        "colab": {
          "base_uri": "https://localhost:8080/",
          "height": 53
        },
        "outputId": "e6a44881-8633-417b-fbeb-51fd13f703ca"
      },
      "outputs": [
        {
          "output_type": "execute_result",
          "data": {
            "application/vnd.google.colaboratory.intrinsic+json": {
              "type": "string"
            },
            "text/plain": [
              "'JD\"【實習】Porsche Taiwan｜Corporate Development & Strategy InternPorsche Taiwan has an internship vacancy in our CEO department.【公司名稱】Porsche Taiwan Motor'"
            ]
          },
          "metadata": {},
          "execution_count": 12
        }
      ],
      "source": [
        "## 清理文字檔空格 <<< 沒清成功\n",
        "text_sentence = []\n",
        "with open(path,\"r\",encoding='Big5',errors='ignore') as f:\n",
        "  for i in f.readlines():\n",
        "    if i.strip() != '':\n",
        "      text_sentence.append(i.strip())\n",
        "\n",
        "text =  ''.join(text_sentence)\n",
        "text[:150]"
      ]
    },
    {
      "cell_type": "code",
      "execution_count": null,
      "metadata": {
        "id": "2xvl4l8LPZOM",
        "colab": {
          "base_uri": "https://localhost:8080/"
        },
        "outputId": "1eeee403-05ee-435e-ffd1-1d5d82ea4a43"
      },
      "outputs": [
        {
          "output_type": "stream",
          "name": "stderr",
          "text": [
            "IOPub data rate exceeded.\n",
            "The notebook server will temporarily stop sending output\n",
            "to the client in order to avoid crashing it.\n",
            "To change this limit, set the config variable\n",
            "`--NotebookApp.iopub_data_rate_limit`.\n",
            "\n",
            "Current values:\n",
            "NotebookApp.iopub_data_rate_limit=1000000.0 (bytes/sec)\n",
            "NotebookApp.rate_limit_window=3.0 (secs)\n",
            "\n"
          ]
        }
      ],
      "source": [
        "print(text_sentence)"
      ]
    },
    {
      "cell_type": "code",
      "execution_count": null,
      "metadata": {
        "colab": {
          "base_uri": "https://localhost:8080/"
        },
        "id": "fbNfBT6uR0_a",
        "outputId": "41d01fe4-d842-4e53-8d62-4b8c9a5df1c8"
      },
      "outputs": [
        {
          "output_type": "stream",
          "name": "stdout",
          "text": [
            "這個資料集共有2499642個字\n",
            "這個資料集不重複的字有3163個字\n"
          ]
        }
      ],
      "source": [
        "n = len(text)\n",
        "w = len(set(text))\n",
        "print(f'這個資料集共有{n}個字')\n",
        "print(f'這個資料集不重複的字有{w}個字')"
      ]
    },
    {
      "cell_type": "code",
      "execution_count": null,
      "metadata": {
        "id": "ytRIMWfoR8z7"
      },
      "outputs": [],
      "source": [
        "# 初始化一個以字為單位的 Tokenizer\n",
        "tokenizer = tf.keras.preprocessing.text.Tokenizer(\n",
        "        num_words=w,\n",
        "        char_level=True,\n",
        "        filters=''\n",
        ")"
      ]
    },
    {
      "cell_type": "code",
      "execution_count": null,
      "metadata": {
        "colab": {
          "base_uri": "https://localhost:8080/"
        },
        "id": "pwyBdYp1SIwr",
        "outputId": "3050cce4-82c9-4c58-9d4a-60f97c6182da"
      },
      "outputs": [
        {
          "output_type": "stream",
          "name": "stdout",
          "text": [
            "[140, 15, 53, 37, 39, 38, 36, 14, 7, 9]\n"
          ]
        },
        {
          "output_type": "execute_result",
          "data": {
            "text/plain": [
              "2499642"
            ]
          },
          "metadata": {},
          "execution_count": 16
        }
      ],
      "source": [
        "tokenizer.fit_on_texts(text)\n",
        "text_as_int = tokenizer.texts_to_sequences([text])[0]\n",
        "print(text_as_int[:10])\n",
        "len(text_as_int)"
      ]
    },
    {
      "cell_type": "code",
      "execution_count": null,
      "metadata": {
        "colab": {
          "base_uri": "https://localhost:8080/"
        },
        "id": "nJWRA3leSlNp",
        "outputId": "b82a0df8-c1e3-4bb3-8cee-624ad7eae482"
      },
      "outputs": [
        {
          "output_type": "stream",
          "name": "stdout",
          "text": [
            "3137\n"
          ]
        }
      ],
      "source": [
        "# 計算不同的字數\n",
        "max_id = len(tokenizer.word_index)\n",
        "print(max_id)"
      ]
    },
    {
      "cell_type": "code",
      "execution_count": null,
      "metadata": {
        "id": "ufcMWp5VTlKW"
      },
      "outputs": [],
      "source": [
        "[encoded] = np.array(tokenizer.texts_to_sequences([text]))-1"
      ]
    },
    {
      "cell_type": "code",
      "execution_count": null,
      "metadata": {
        "id": "AqruFjwsTova"
      },
      "outputs": [],
      "source": [
        "dataset = tf.data.Dataset.from_tensor_slices(encoded)"
      ]
    },
    {
      "cell_type": "code",
      "execution_count": null,
      "metadata": {
        "id": "nLC34ufpTq3J"
      },
      "outputs": [],
      "source": [
        "n_steps = 100\n",
        "window_length = n_steps + 1\n",
        "dataset = dataset.window(window_length, shift=1, drop_remainder=True)"
      ]
    },
    {
      "cell_type": "code",
      "execution_count": null,
      "metadata": {
        "id": "KrC-HwmlTwJA"
      },
      "outputs": [],
      "source": [
        "dataset = dataset.flat_map(lambda window: window.batch(window_length))"
      ]
    },
    {
      "cell_type": "code",
      "execution_count": null,
      "metadata": {
        "id": "1piEnVBqTxKY"
      },
      "outputs": [],
      "source": [
        "batch_size=32\n",
        "dataset = dataset.shuffle(10000).batch(batch_size)\n",
        "dataset = dataset.map(lambda windows: (windows[:,:-1], windows[:,1:]))"
      ]
    },
    {
      "cell_type": "code",
      "execution_count": null,
      "metadata": {
        "id": "4sOIx-yjTzpA"
      },
      "outputs": [],
      "source": [
        "dataset = dataset.map(lambda X_batch, Y_batch: (tf.one_hot(X_batch, depth=max_id), Y_batch))"
      ]
    },
    {
      "cell_type": "code",
      "execution_count": null,
      "metadata": {
        "id": "7aY2SpZiT48Y"
      },
      "outputs": [],
      "source": [
        "dataset = dataset.prefetch(1)"
      ]
    },
    {
      "cell_type": "code",
      "execution_count": null,
      "metadata": {
        "id": "i5XbhuwMT6va"
      },
      "outputs": [],
      "source": [
        "model = Sequential()"
      ]
    },
    {
      "cell_type": "code",
      "execution_count": null,
      "metadata": {
        "id": "L1XrEzCGT747"
      },
      "outputs": [],
      "source": [
        "model.add(LSTM(128, return_sequences=True, dropout=0.2, recurrent_dropout=0.2, input_shape=[None, max_id]))"
      ]
    },
    {
      "cell_type": "code",
      "execution_count": null,
      "metadata": {
        "id": "lMKO9HcWUDwx"
      },
      "outputs": [],
      "source": [
        "model.add(TimeDistributed(Dense(max_id, activation=\"softmax\")))"
      ]
    },
    {
      "cell_type": "code",
      "execution_count": null,
      "metadata": {
        "id": "GcjbDwqhUEra"
      },
      "outputs": [],
      "source": [
        "model.compile(loss=\"sparse_categorical_crossentropy\", optimizer='adam')"
      ]
    },
    {
      "cell_type": "code",
      "execution_count": null,
      "metadata": {
        "colab": {
          "base_uri": "https://localhost:8080/"
        },
        "id": "nvXaUFHaUJcj",
        "outputId": "e1c582e4-9158-401e-8509-dc3b7a6f29eb"
      },
      "outputs": [
        {
          "output_type": "stream",
          "name": "stdout",
          "text": [
            "500/500 [==============================] - 1004s 2s/step - loss: 5.4624\n"
          ]
        }
      ],
      "source": [
        "history = model.fit(dataset, epochs=1, steps_per_epoch=500)"
      ]
    },
    {
      "cell_type": "code",
      "execution_count": null,
      "metadata": {
        "colab": {
          "base_uri": "https://localhost:8080/"
        },
        "id": "NWpjQzTTUNBh",
        "outputId": "f45715e0-fdcf-41dd-b370-0b5ad75777a8"
      },
      "outputs": [
        {
          "output_type": "stream",
          "name": "stdout",
          "text": [
            "INFO:tensorflow:Assets written to: tokenizer0112/assets\n"
          ]
        },
        {
          "output_type": "stream",
          "name": "stderr",
          "text": [
            "WARNING:absl:<keras.layers.recurrent.LSTMCell object at 0x7f876eea15d0> has the same name 'LSTMCell' as a built-in Keras object. Consider renaming <class 'keras.layers.recurrent.LSTMCell'> to avoid naming conflicts when loading with `tf.keras.models.load_model`. If renaming is not possible, pass the object in the `custom_objects` parameter of the load function.\n"
          ]
        }
      ],
      "source": [
        "## model 之儲存\n",
        "model.save(\"tokenizer0112\")"
      ]
    },
    {
      "cell_type": "code",
      "source": [
        "from google.colab import drive\n",
        "\n",
        "drive.mount('/content/drive')"
      ],
      "metadata": {
        "id": "6CDjtz227Jtn"
      },
      "execution_count": null,
      "outputs": []
    },
    {
      "cell_type": "code",
      "source": [
        "%cd \"/content/drive/MyDrive/Colab Notebooks/\""
      ],
      "metadata": {
        "id": "PwTjU-in7Mtf"
      },
      "execution_count": null,
      "outputs": []
    },
    {
      "cell_type": "code",
      "execution_count": null,
      "metadata": {
        "id": "CkU_Vsa0nMWR"
      },
      "outputs": [],
      "source": [
        "import pickle"
      ]
    },
    {
      "cell_type": "code",
      "source": [
        "f = open('tokenizer0112.pkl', 'wb')\n",
        "pickle.dump(tokenizer, f)\n",
        "f.close()"
      ],
      "metadata": {
        "id": "02G6-ksS7RID"
      },
      "execution_count": null,
      "outputs": []
    },
    {
      "cell_type": "code",
      "source": [
        "# 讀回\n",
        "f = open('tokenizer0112.pkl', 'rb')\n",
        "tokenizer = pickle.load(f)\n",
        "f.close()"
      ],
      "metadata": {
        "id": "X0kfqsCR7mTu"
      },
      "execution_count": null,
      "outputs": []
    },
    {
      "cell_type": "code",
      "execution_count": null,
      "metadata": {
        "id": "rwOAv2C0ztje"
      },
      "outputs": [],
      "source": [
        "model.summary()"
      ]
    },
    {
      "cell_type": "markdown",
      "metadata": {
        "id": "oNEgiXMtpbZx"
      },
      "source": [
        "### training / testing 切割"
      ]
    },
    {
      "cell_type": "code",
      "execution_count": null,
      "metadata": {
        "id": "EccNo8BLsbKr"
      },
      "outputs": [],
      "source": [
        "## import data\n",
        "import pandas as pd"
      ]
    },
    {
      "cell_type": "code",
      "execution_count": null,
      "metadata": {
        "colab": {
          "base_uri": "https://localhost:8080/"
        },
        "id": "eFeGzx2Vshbh",
        "outputId": "92378319-22a0-49a8-ff52-7ccd2334f931"
      },
      "outputs": [
        {
          "output_type": "stream",
          "name": "stdout",
          "text": [
            "Drive already mounted at /content/drive; to attempt to forcibly remount, call drive.mount(\"/content/drive\", force_remount=True).\n"
          ]
        }
      ],
      "source": [
        "## 從Google Cloud call txt file\n",
        "from google.colab import drive\n",
        "drive.mount('/content/drive')"
      ]
    },
    {
      "cell_type": "code",
      "source": [
        "path0 = '/content/drive/MyDrive/110-1 學期用/110-1 設計思考與人工智慧/final project/dataset.xlsx'\n",
        "data0 = pd.read_excel(path0)\n",
        "len(data0)"
      ],
      "metadata": {
        "colab": {
          "base_uri": "https://localhost:8080/"
        },
        "id": "nMJA8i8ocNVD",
        "outputId": "d9a1dde2-29a4-4fcb-99a4-f5f95f5cad47"
      },
      "execution_count": null,
      "outputs": [
        {
          "output_type": "execute_result",
          "data": {
            "text/plain": [
              "3000"
            ]
          },
          "metadata": {},
          "execution_count": 136
        }
      ]
    },
    {
      "cell_type": "code",
      "source": [
        "path111 = '/content/drive/MyDrive/110-1 學期用/110-1 設計思考與人工智慧/final project/dataset_final.xlsx'\n",
        "data1 = pd.read_excel(path111)\n",
        "len(data1)"
      ],
      "metadata": {
        "colab": {
          "base_uri": "https://localhost:8080/"
        },
        "id": "35fjXMdgXaMF",
        "outputId": "33c8a19f-261a-4000-a902-b4d22051c3c7"
      },
      "execution_count": null,
      "outputs": [
        {
          "output_type": "execute_result",
          "data": {
            "text/plain": [
              "3500"
            ]
          },
          "metadata": {},
          "execution_count": 46
        }
      ]
    },
    {
      "cell_type": "code",
      "source": [
        "path1 = '/content/drive/MyDrive/110-1 學期用/110-1 設計思考與人工智慧/final project/new.xlsx'\n",
        "new = pd.read_excel(path1)\n",
        "len(new)"
      ],
      "metadata": {
        "id": "b5U1OYcqOyJS"
      },
      "execution_count": null,
      "outputs": []
    },
    {
      "cell_type": "markdown",
      "metadata": {
        "id": "McJZSW_fs5Fi"
      },
      "source": [
        "split training data & testing data"
      ]
    },
    {
      "cell_type": "code",
      "execution_count": null,
      "metadata": {
        "colab": {
          "base_uri": "https://localhost:8080/"
        },
        "id": "OKwbkXLhs4sP",
        "outputId": "7c00dd34-7d22-4f0f-b345-2708285553f2"
      },
      "outputs": [
        {
          "output_type": "execute_result",
          "data": {
            "text/plain": [
              "2400"
            ]
          },
          "metadata": {},
          "execution_count": 141
        }
      ],
      "source": [
        "# split 8:2 data0\n",
        "train0 = data0[0:2400]\n",
        "test0 = data0[2400:3000]\n",
        "len(train0)\n"
      ]
    },
    {
      "cell_type": "code",
      "source": [
        "len(test0)"
      ],
      "metadata": {
        "id": "XwFtVLGqQ2de"
      },
      "execution_count": null,
      "outputs": []
    },
    {
      "cell_type": "code",
      "source": [
        "len(train0)"
      ],
      "metadata": {
        "id": "iCZfROPpX-x0"
      },
      "execution_count": null,
      "outputs": []
    },
    {
      "cell_type": "code",
      "source": [
        "# split 8:2 data:3500\n",
        "train1 = data1[0:2800]\n",
        "test1 = data1[2800:3500]\n"
      ],
      "metadata": {
        "id": "qmSGwYt_Qj2S"
      },
      "execution_count": null,
      "outputs": []
    },
    {
      "cell_type": "code",
      "source": [
        "len(train)"
      ],
      "metadata": {
        "colab": {
          "base_uri": "https://localhost:8080/"
        },
        "id": "AWqCKP5avM05",
        "outputId": "f5550ee6-eb84-4e12-aa48-2a8310607715"
      },
      "execution_count": null,
      "outputs": [
        {
          "output_type": "execute_result",
          "data": {
            "text/plain": [
              "2800"
            ]
          },
          "metadata": {},
          "execution_count": 351
        }
      ]
    },
    {
      "cell_type": "code",
      "source": [
        "len(test)"
      ],
      "metadata": {
        "colab": {
          "base_uri": "https://localhost:8080/"
        },
        "id": "PTi2KWMyvNbU",
        "outputId": "3e338261-7d20-4c78-eb6a-46dcd423fc47"
      },
      "execution_count": null,
      "outputs": [
        {
          "output_type": "execute_result",
          "data": {
            "text/plain": [
              "700"
            ]
          },
          "metadata": {},
          "execution_count": 352
        }
      ]
    },
    {
      "cell_type": "code",
      "source": [
        "train = pd.concat([train0,train1],axis=0)\n",
        "test = pd.concat([test0,test1],axis=0)"
      ],
      "metadata": {
        "id": "qvZ5mFbQSnvZ"
      },
      "execution_count": null,
      "outputs": []
    },
    {
      "cell_type": "code",
      "source": [
        "test=test.astype(str)\n",
        "train=train.astype(str)"
      ],
      "metadata": {
        "id": "a8YL6UpFTsdI"
      },
      "execution_count": null,
      "outputs": []
    },
    {
      "cell_type": "markdown",
      "metadata": {
        "id": "8DTpoUqoVxjQ"
      },
      "source": [
        "### data 轉為 array"
      ]
    },
    {
      "cell_type": "code",
      "execution_count": null,
      "metadata": {
        "colab": {
          "base_uri": "https://localhost:8080/"
        },
        "id": "84U1BmkltGJ6",
        "outputId": "15471c14-c8b4-405e-acad-079bc54a566d"
      },
      "outputs": [
        {
          "output_type": "execute_result",
          "data": {
            "text/plain": [
              "2400"
            ]
          },
          "metadata": {},
          "execution_count": 303
        }
      ],
      "source": [
        "# train_data0\n",
        "x_train_before = train0['JD'].tolist()\n",
        "y_train = train0['lebal'].tolist()\n",
        "len(x_train_before)\n",
        "len(y_train)\n"
      ]
    },
    {
      "cell_type": "code",
      "source": [
        "# train_data1\n",
        "x_train_before = train1['JD'].tolist()\n",
        "y_train = train1['lebal'].tolist()\n",
        "len(x_train_before)\n",
        "len(y_train)"
      ],
      "metadata": {
        "colab": {
          "base_uri": "https://localhost:8080/"
        },
        "id": "BYgNSlaOvWv0",
        "outputId": "0a38ec43-7969-424b-8e74-ba17574bd81e"
      },
      "execution_count": null,
      "outputs": [
        {
          "output_type": "execute_result",
          "data": {
            "text/plain": [
              "2800"
            ]
          },
          "metadata": {},
          "execution_count": 48
        }
      ]
    },
    {
      "cell_type": "code",
      "execution_count": null,
      "metadata": {
        "id": "yU-bi1UWzDXZ"
      },
      "outputs": [],
      "source": [
        "print(x_train_before[0])"
      ]
    },
    {
      "cell_type": "code",
      "execution_count": null,
      "metadata": {
        "id": "NJcWh7sTpxil"
      },
      "outputs": [],
      "source": [
        "## 使用tokenizer 轉換\n",
        "import pickle"
      ]
    },
    {
      "cell_type": "code",
      "execution_count": null,
      "metadata": {
        "id": "WA3ODhJSvozi"
      },
      "outputs": [],
      "source": [
        "# loading pickle\n",
        "with open('tokenizer.pickle', 'rb') as handle:\n",
        "    tokenizer = pickle.load(handle)"
      ]
    },
    {
      "cell_type": "code",
      "execution_count": null,
      "metadata": {
        "id": "GudEJZAXAPDF"
      },
      "outputs": [],
      "source": [
        "x_train = tokenizer.texts_to_sequences(x_train_before)"
      ]
    },
    {
      "cell_type": "code",
      "execution_count": null,
      "metadata": {
        "id": "7Z0lF29cAV8w"
      },
      "outputs": [],
      "source": [
        "print(x_train[0])"
      ]
    },
    {
      "cell_type": "code",
      "execution_count": null,
      "metadata": {
        "id": "LLmi5IceycmA"
      },
      "outputs": [],
      "source": [
        "print(y_train)"
      ]
    },
    {
      "cell_type": "code",
      "execution_count": null,
      "metadata": {
        "colab": {
          "base_uri": "https://localhost:8080/"
        },
        "id": "JVR4AFSssqno",
        "outputId": "15cb12a9-4550-432b-a88f-204f0175b13f"
      },
      "outputs": [
        {
          "output_type": "execute_result",
          "data": {
            "text/plain": [
              "700"
            ]
          },
          "metadata": {},
          "execution_count": 53
        }
      ],
      "source": [
        "# test_data\n",
        "x_test_before = test1['JD'].tolist()\n",
        "y_test = test1['lebal'].tolist()\n",
        "len(x_test_before)\n",
        "len(y_test)"
      ]
    },
    {
      "cell_type": "code",
      "execution_count": null,
      "metadata": {
        "id": "C5e-iOxw56Kd"
      },
      "outputs": [],
      "source": [
        "x_test = tokenizer.texts_to_sequences(x_test_before)"
      ]
    },
    {
      "cell_type": "code",
      "execution_count": null,
      "metadata": {
        "colab": {
          "base_uri": "https://localhost:8080/"
        },
        "id": "wC80ZHWqvwcP",
        "outputId": "1fc2a1a1-ca86-4af7-ad18-fd22a64f5305"
      },
      "outputs": [
        {
          "output_type": "stream",
          "name": "stdout",
          "text": [
            "[424, 929, 58, 76, 87, 37, 258, 248, 900, 264, 123, 515, 569, 439, 35, 341, 58, 76, 36, 231, 448, 58, 76, 12, 424, 929, 411, 87, 310, 125, 51, 233, 168, 84, 18, 110, 174, 12, 88, 563, 954, 721, 658, 310, 125, 301, 201, 266, 168, 84, 300, 61, 301, 43, 5, 7, 28, 22, 20, 7, 28, 872, 168, 300, 18, 314, 256, 12, 160, 48, 252, 1459, 728, 242, 310, 125, 260, 1152, 509, 18, 178, 389, 98, 325, 306, 1273, 121, 61, 39, 1001, 121, 31, 605, 483, 599, 279, 125, 171, 111, 210, 18, 636, 276, 12, 630, 242, 923, 196, 111, 210, 18, 510, 549, 132, 239, 51, 233, 98, 325, 119, 145, 56, 198, 12, 945, 346, 370, 242, 424, 929, 29, 24, 124, 188, 88, 837, 424, 182, 18, 117, 149, 151, 98, 178, 389, 56, 61, 380, 347, 125, 171, 84, 27, 18, 423, 604, 79, 185, 31, 75, 424, 929, 12, 630, 242, 69, 56, 54, 38, 229, 288, 51, 233, 201, 266, 235, 191, 19, 151, 98, 19, 719, 642, 41, 329, 475, 115, 200, 40, 421, 244, 104, 64, 201, 266, 19, 610, 65, 104, 64, 201, 266, 19, 123, 70, 104, 64, 201, 266, 12, 41, 337, 203, 62, 126, 201, 266, 13, 13, 13, 13, 13, 13, 113, 86, 56, 827, 77, 18, 51, 233, 201, 266, 12, 424, 929, 676, 161, 50, 151, 98, 41, 329, 475, 112, 12, 223, 35, 303, 462, 18, 58, 76, 1182, 64, 41, 151, 98, 365, 477, 12, 69, 411, 87, 307, 35, 51, 233, 60, 227, 271, 50, 89, 108, 48, 18, 276, 1825, 31, 630, 453, 231, 198, 12, 424, 929, 548, 124, 188, 945, 88, 837, 593, 145, 223, 204, 103, 306, 383, 18, 98, 325, 12, 583, 200, 40, 819, 456, 211, 178, 148, 101, 19, 85, 86, 187, 51, 169, 62, 126, 56, 61, 50, 94, 748, 600, 104, 64, 178, 389, 113, 113, 12, 644, 1311, 18, 180, 243, 307, 35, 93, 122, 510, 549, 244, 132, 35, 261, 257, 18, 1607, 403, 52, 160, 130, 202, 424, 929, 18, 85, 248, 994, 31, 78, 65, 74, 116, 200, 217, 40, 26, 13, 86, 187, 62, 126, 57, 26, 55, 51, 169, 247, 298, 840, 723, 62, 126, 61, 805, 565, 31, 57, 29, 55, 205, 101, 74, 19, 198, 163, 86, 187, 51, 169, 12, 182, 50, 691, 648, 1007, 317, 61, 338, 356, 292, 336, 29, 13, 51, 169, 33, 117, 22, 51, 169, 519, 168, 33, 117, 61, 2, 3, 11, 151, 98, 107, 81, 27, 42, 44, 13, 1, 277, 84, 271, 50, 89, 108, 33, 27, 26, 13, 197, 268, 294, 123, 42, 62, 126, 19, 86, 187, 247, 298, 56, 61, 86, 187, 33, 117, 231, 205, 27, 244, 117, 367, 35, 44, 124, 56, 63, 107, 81, 33, 27, 72, 100, 29, 13, 197, 92, 141, 209, 239, 111, 353, 62, 126, 41, 178, 389, 33, 92, 269, 101, 72, 100, 44, 13, 197, 92, 91, 42, 50, 136, 19, 123, 42, 41, 86, 187, 62, 126, 39, 65, 72, 100, 61, 390, 203, 423, 604, 49, 67, 68, 13, 197, 139, 94, 377, 417, 19, 669, 253, 132, 19, 125, 171, 84, 27, 19, 786, 695, 221, 509, 73, 13, 197, 92, 141, 347, 542, 185, 33, 92, 57, 583, 40, 3, 6, 32, 11, 2, 6, 17, 55, 151, 98, 72, 100, 41, 93, 117, 149, 151, 98, 35, 261, 257, 121, 464, 192]\n"
          ]
        }
      ],
      "source": [
        "print(x_test[0])"
      ]
    },
    {
      "cell_type": "code",
      "source": [
        "print(y_test)"
      ],
      "metadata": {
        "colab": {
          "base_uri": "https://localhost:8080/"
        },
        "id": "1QcETSjLy0zv",
        "outputId": "e9ca1947-b76b-46ec-9b3e-39813eaf3664"
      },
      "execution_count": null,
      "outputs": [
        {
          "output_type": "stream",
          "name": "stdout",
          "text": [
            "[1, 1, 1, 1, 1, 0, 0, 0, 0, 0, 0, 0, 0, 0, 0, 0, 0, 0, 0, 0, 0, 0, 0, 0, 0, 0, 0, 0, 0, 0, 0, 0, 0, 0, 0, 0, 0, 0, 0, 0, 0, 0, 0, 0, 0, 0, 0, 0, 0, 0, 0, 0, 0, 0, 0, 0, 0, 0, 0, 0, 0, 0, 0, 0, 0, 0, 0, 0, 0, 0, 0, 0, 0, 0, 0, 0, 0, 0, 0, 0, 0, 0, 0, 0, 0, 0, 0, 0, 0, 0, 0, 0, 0, 0, 0, 0, 0, 0, 0, 0, 0, 0, 0, 0, 0, 0, 0, 0, 0, 0, 0, 0, 0, 0, 0, 0, 0, 0, 0, 0, 0, 0, 0, 0, 0, 0, 0, 0, 0, 0, 0, 0, 0, 0, 0, 0, 0, 0, 0, 0, 0, 0, 0, 0, 0, 0, 0, 0, 0, 0, 0, 0, 0, 0, 0, 0, 0, 0, 0, 0, 0, 0, 0, 0, 0, 0, 0, 0, 0, 0, 0, 0, 0, 0, 0, 0, 0, 0, 0, 0, 0, 0, 0, 0, 0, 0, 1, 0, 0, 0, 0, 0, 0, 0, 0, 0, 0, 0, 0, 0, 0, 0, 0, 0, 0, 0, 0, 1, 0, 0, 0, 0, 0, 0, 0, 0, 0, 0, 0, 0, 0, 0, 0, 0, 0, 0, 0, 0, 0, 0, 0, 0, 0, 0, 0, 0, 0, 0, 0, 0, 0, 0, 0, 0, 0, 0, 0, 0, 0, 0, 0, 0, 0, 0, 0, 0, 0, 0, 0, 0, 0, 0, 0, 0, 0, 0, 0, 0, 0, 0, 0, 0, 0, 0, 0, 0, 0, 0, 0, 0, 0, 0, 0, 0, 0, 0, 0, 0, 0, 0, 0, 0, 0, 0, 0, 0, 0, 0, 0, 0, 0, 0, 0, 0, 0, 0, 0, 0, 0, 0, 0, 0, 0, 0, 0, 0, 0, 0, 0, 0, 0, 0, 0, 0, 0, 1, 0, 0, 0, 0, 0, 0, 0, 0, 0, 0, 0, 0, 0, 0, 0, 0, 0, 0, 0, 0, 0, 0, 0, 0, 0, 0, 0, 0, 0, 0, 0, 0, 0, 0, 0, 0, 0, 0, 0, 0, 0, 0, 0, 0, 0, 0, 0, 0, 0, 0, 0, 0, 0, 0, 0, 0, 0, 0, 0, 0, 0, 0, 0, 0, 0, 0, 0, 0, 0, 0, 0, 0, 0, 0, 0, 0, 0, 0, 0, 0, 0, 0, 0, 0, 0, 0, 0, 0, 0, 0, 0, 0, 0, 0, 0, 0, 0, 0, 0, 0, 0, 0, 0, 0, 0, 0, 0, 0, 0, 0, 0, 0, 0, 0, 0, 0, 0, 0, 0, 0, 0, 0, 0, 0, 0, 0, 0, 0, 0, 0, 0, 0, 0, 0, 0, 0, 0, 0, 0, 0, 0, 0, 0, 0, 0, 0, 0, 0, 0, 0, 0, 0, 0, 0, 0, 0, 0, 0, 0, 0, 0, 0, 0, 0, 0, 0, 0, 0, 0, 0, 0, 0, 0, 0, 0, 0, 0, 0, 0, 0, 0, 0, 0, 0, 0, 0, 0, 0, 0, 0, 0, 0, 0, 0, 0, 0, 0, 0, 0, 0, 0, 0, 0, 0, 0, 0, 0, 0, 0, 0, 0, 0, 0, 0, 0, 0, 0, 0, 0, 0, 0, 0, 0, 0, 0, 0, 0, 0, 0, 0, 0, 0, 0, 0, 0, 0, 0, 0, 0, 0, 0, 0, 0, 0, 0, 0, 0, 0, 0, 0, 0, 0, 0, 0, 0, 0, 0, 0, 0, 0, 0, 0, 0, 0, 0, 0, 0, 0, 0, 0, 0, 0, 0, 0, 0, 1, 1, 1, 1, 1, 1, 1, 1, 1, 1, 1, 1, 1, 1, 1, 1, 1, 1, 1, 1, 1, 1, 1, 1, 1, 1, 1, 1, 1, 1, 1, 1, 1, 1, 1, 1, 1, 1, 1, 1, 1, 1, 1, 1, 1, 1, 1, 1, 1, 1, 1, 1, 1, 1, 1, 1, 1, 1, 1, 1, 1, 1, 1, 1, 1, 1, 1, 1, 1, 1, 1, 1, 1, 1, 1, 1, 1, 1, 1, 1, 1, 1, 1, 1, 1, 1, 1, 1, 1, 1, 1, 1, 1, 1, 1, 1, 1, 1, 1]\n"
          ]
        }
      ]
    },
    {
      "cell_type": "markdown",
      "metadata": {
        "id": "fq9ox3qmoksY"
      },
      "source": [
        "### 舊版 excel\n"
      ]
    },
    {
      "cell_type": "code",
      "execution_count": null,
      "metadata": {
        "id": "wXpiasKx76jz"
      },
      "outputs": [],
      "source": [
        "## import data\n",
        "import pandas as pd"
      ]
    },
    {
      "cell_type": "code",
      "execution_count": null,
      "metadata": {
        "id": "UfYQ9Gh-IfsU"
      },
      "outputs": [],
      "source": [
        "## 從Google Cloud call txt file\n",
        "from google.colab import drive\n",
        "drive.mount('/content/drive')\n"
      ]
    },
    {
      "cell_type": "code",
      "execution_count": null,
      "metadata": {
        "id": "iBrUW_tBIy0T"
      },
      "outputs": [],
      "source": [
        "path_x_train = '/content/drive/MyDrive/110-1 學期用/110-1 設計思考與人工智慧/final project/x_train.xlsx'\n",
        "f= open(path_x_train,'r')\n",
        "x_train = pd.read_excel(path_x_train)"
      ]
    },
    {
      "cell_type": "code",
      "execution_count": null,
      "metadata": {
        "id": "J_m-FuNigwuE"
      },
      "outputs": [],
      "source": [
        "X_train = x_train[\"JD\"].tolist()\n",
        "print(X_train)\n",
        "len(_train)"
      ]
    },
    {
      "cell_type": "code",
      "execution_count": null,
      "metadata": {
        "id": "od-yxT_6kG8Z"
      },
      "outputs": [],
      "source": [
        "X_trans = tokenizer.texts_to_sequences(X)"
      ]
    },
    {
      "cell_type": "code",
      "execution_count": null,
      "metadata": {
        "id": "StJejbaDz6a1"
      },
      "outputs": [],
      "source": [
        "print(X_trans)"
      ]
    },
    {
      "cell_type": "code",
      "execution_count": null,
      "metadata": {
        "id": "IfUQVX_QKXlr"
      },
      "outputs": [],
      "source": [
        "x_train.head()"
      ]
    },
    {
      "cell_type": "code",
      "execution_count": null,
      "metadata": {
        "id": "KCRxotr5oRjl"
      },
      "outputs": [],
      "source": [
        "path_x_test = '/content/drive/MyDrive/110-1 學期用/110-1 設計思考與人工智慧/final project/x_test.xlsx'\n",
        "x_test = pd.read_excel(path_x_test)"
      ]
    },
    {
      "cell_type": "code",
      "execution_count": null,
      "metadata": {
        "id": "z7kEtERKo5-V"
      },
      "outputs": [],
      "source": [
        "X_test = x_test[\"JD\"].tolist()\n",
        "print(X_test)\n",
        "len(x_test)"
      ]
    },
    {
      "cell_type": "code",
      "execution_count": null,
      "metadata": {
        "id": "RsGXJ-H8WCqw"
      },
      "outputs": [],
      "source": [
        "path_y_train = '/content/drive/MyDrive/110-1 學期用/110-1 設計思考與人工智慧/final project/y_train.xlsx'\n",
        "y_train = pd.read_excel(path_y_train)"
      ]
    },
    {
      "cell_type": "code",
      "execution_count": null,
      "metadata": {
        "id": "LNIKvBGTh4-U"
      },
      "outputs": [],
      "source": [
        "Y_train = y_train['lebal'].tolist()\n",
        "print(Y_train)\n",
        "len(Y_train)"
      ]
    },
    {
      "cell_type": "code",
      "execution_count": null,
      "metadata": {
        "id": "_1jq_MwK0uik"
      },
      "outputs": [],
      "source": [
        "path_y_test = '/content/drive/MyDrive/110-1 學期用/110-1 設計思考與人工智慧/final project/y_test.xlsx'\n",
        "y_test = pd.read_excel(path_y_test)"
      ]
    },
    {
      "cell_type": "code",
      "execution_count": null,
      "metadata": {
        "id": "Com-lvoR04XC"
      },
      "outputs": [],
      "source": [
        "Y_test = y_test['lebal'].tolist()\n",
        "print(Y_test)\n",
        "len(Y_test)"
      ]
    },
    {
      "cell_type": "markdown",
      "metadata": {
        "id": "NWnLKZ3pr_y2"
      },
      "source": [
        "# 模型訓練"
      ]
    },
    {
      "cell_type": "markdown",
      "metadata": {
        "id": "7klpHaavWoCG"
      },
      "source": [
        "### 調整資料長度"
      ]
    },
    {
      "cell_type": "code",
      "execution_count": null,
      "metadata": {
        "colab": {
          "base_uri": "https://localhost:8080/"
        },
        "id": "_SFQH8rg-vem",
        "outputId": "89884a59-f12a-494b-e0c7-1ab520acab81"
      },
      "outputs": [
        {
          "output_type": "execute_result",
          "data": {
            "text/plain": [
              "1771"
            ]
          },
          "metadata": {},
          "execution_count": 152
        }
      ],
      "source": [
        "# check 不同筆資料長度\n",
        "len(x_train[0])"
      ]
    },
    {
      "cell_type": "code",
      "execution_count": null,
      "metadata": {
        "colab": {
          "base_uri": "https://localhost:8080/"
        },
        "id": "BTxLvQOz-ven",
        "outputId": "3a82e428-b122-46e0-f104-71e72731135e"
      },
      "outputs": [
        {
          "output_type": "execute_result",
          "data": {
            "text/plain": [
              "59"
            ]
          },
          "metadata": {},
          "execution_count": 85
        }
      ],
      "source": [
        "len(x_train[2500])"
      ]
    },
    {
      "cell_type": "code",
      "execution_count": null,
      "metadata": {
        "id": "ynXfhV0S-veo"
      },
      "outputs": [],
      "source": [
        "##資料長度固定:雖然我們可以做真的 seq2seq, 可是資料長度不一樣對計算上有麻煩, 因此平常還是會固定一定長度, 其餘補 0。\n",
        "x_train = sequence.pad_sequences(x_train, maxlen=2000)\n",
        "x_test = sequence.pad_sequences(x_test, maxlen=2000)"
      ]
    },
    {
      "cell_type": "markdown",
      "metadata": {
        "id": "gLw1t5YZ-vep"
      },
      "source": [
        "### 4. step 01: 打造函數學習機"
      ]
    },
    {
      "cell_type": "code",
      "execution_count": null,
      "metadata": {
        "id": "T3WoAWzg-vep"
      },
      "outputs": [],
      "source": [
        "model = Sequential()"
      ]
    },
    {
      "cell_type": "code",
      "execution_count": null,
      "metadata": {
        "id": "paCqtY9E-vep"
      },
      "outputs": [],
      "source": [
        "model.add(Embedding(10000, 128))"
      ]
    },
    {
      "cell_type": "code",
      "execution_count": null,
      "metadata": {
        "id": "e3ZFi6IO-vep"
      },
      "outputs": [],
      "source": [
        "model.add(LSTM(128))"
      ]
    },
    {
      "cell_type": "code",
      "execution_count": null,
      "metadata": {
        "id": "WYMx8FF7-veq"
      },
      "outputs": [],
      "source": [
        "model.add(Dense(1, activation='sigmoid'))"
      ]
    },
    {
      "cell_type": "markdown",
      "metadata": {
        "id": "XbmruxHeAxT8"
      },
      "source": [
        "#### 組裝"
      ]
    },
    {
      "cell_type": "code",
      "execution_count": null,
      "metadata": {
        "id": "Hc3kJo8u-veq"
      },
      "outputs": [],
      "source": [
        "model.compile(loss='binary_crossentropy',\n",
        "             optimizer='adam',\n",
        "             metrics=['accuracy'])"
      ]
    },
    {
      "cell_type": "markdown",
      "metadata": {
        "id": "7_s0X6DHA6A-"
      },
      "source": [
        "#### 欣賞我們的 model"
      ]
    },
    {
      "cell_type": "code",
      "execution_count": null,
      "metadata": {
        "colab": {
          "base_uri": "https://localhost:8080/"
        },
        "id": "vKwxPjN6-veq",
        "outputId": "4276edb6-6d14-47ba-f053-12fd9d25f6b1"
      },
      "outputs": [
        {
          "output_type": "stream",
          "name": "stdout",
          "text": [
            "Model: \"sequential_4\"\n",
            "_________________________________________________________________\n",
            " Layer (type)                Output Shape              Param #   \n",
            "=================================================================\n",
            " embedding_2 (Embedding)     (None, None, 128)         1280000   \n",
            "                                                                 \n",
            " lstm_4 (LSTM)               (None, 128)               131584    \n",
            "                                                                 \n",
            " dense_4 (Dense)             (None, 1)                 129       \n",
            "                                                                 \n",
            "=================================================================\n",
            "Total params: 1,411,713\n",
            "Trainable params: 1,411,713\n",
            "Non-trainable params: 0\n",
            "_________________________________________________________________\n"
          ]
        }
      ],
      "source": [
        "model.summary()"
      ]
    },
    {
      "cell_type": "markdown",
      "metadata": {
        "id": "O19zWWcl-veq"
      },
      "source": [
        "### 5. step 02: 訓練"
      ]
    },
    {
      "cell_type": "code",
      "execution_count": null,
      "metadata": {
        "id": "zZwzJed-w9vu"
      },
      "outputs": [],
      "source": [
        "import numpy as np"
      ]
    },
    {
      "cell_type": "code",
      "source": [
        "x_train[0:2]"
      ],
      "metadata": {
        "id": "AaU7A_dw8UWG"
      },
      "execution_count": null,
      "outputs": []
    },
    {
      "cell_type": "code",
      "execution_count": null,
      "metadata": {
        "id": "98U6cer2w7Z2"
      },
      "outputs": [],
      "source": [
        "x_train = np.array(x_train)\n",
        "y_train = np.array(y_train)\n",
        "x_test = np.array(x_test)\n",
        "y_test = np.array(y_test)"
      ]
    },
    {
      "cell_type": "code",
      "execution_count": null,
      "metadata": {
        "id": "iIL00x1u-veq",
        "colab": {
          "base_uri": "https://localhost:8080/"
        },
        "outputId": "2b6f100d-6502-406a-9017-16ce8ea0014b"
      },
      "outputs": [
        {
          "output_type": "stream",
          "name": "stdout",
          "text": [
            "Epoch 1/5\n",
            "88/88 [==============================] - 243s 3s/step - loss: 0.3145 - accuracy: 0.8846 - val_loss: 0.4759 - val_accuracy: 0.7571\n",
            "Epoch 2/5\n",
            "88/88 [==============================] - 240s 3s/step - loss: 0.1811 - accuracy: 0.9407 - val_loss: 0.3133 - val_accuracy: 0.8529\n",
            "Epoch 3/5\n",
            "88/88 [==============================] - 240s 3s/step - loss: 0.2283 - accuracy: 0.9336 - val_loss: 0.3181 - val_accuracy: 0.9029\n",
            "Epoch 4/5\n",
            "88/88 [==============================] - 239s 3s/step - loss: 0.1734 - accuracy: 0.9482 - val_loss: 0.3275 - val_accuracy: 0.8571\n",
            "Epoch 5/5\n",
            "88/88 [==============================] - 238s 3s/step - loss: 0.1391 - accuracy: 0.9579 - val_loss: 0.2993 - val_accuracy: 0.8957\n"
          ]
        },
        {
          "output_type": "execute_result",
          "data": {
            "text/plain": [
              "<keras.callbacks.History at 0x7f8770146650>"
            ]
          },
          "metadata": {},
          "execution_count": 68
        }
      ],
      "source": [
        "model.fit(x_train, y_train, batch_size=32, epochs=5,\n",
        "         validation_data=(x_test, y_test))"
      ]
    },
    {
      "cell_type": "code",
      "execution_count": null,
      "metadata": {
        "id": "vHmcHd_kIfhc",
        "colab": {
          "base_uri": "https://localhost:8080/"
        },
        "outputId": "50a01128-9adb-415d-b59e-8756c4532926"
      },
      "outputs": [
        {
          "output_type": "stream",
          "name": "stdout",
          "text": [
            "Drive already mounted at /content/drive; to attempt to forcibly remount, call drive.mount(\"/content/drive\", force_remount=True).\n"
          ]
        }
      ],
      "source": [
        "from google.colab import drive\n",
        "drive.mount('/content/drive')"
      ]
    },
    {
      "cell_type": "code",
      "execution_count": null,
      "metadata": {
        "id": "ROveVX6XIiqR",
        "colab": {
          "base_uri": "https://localhost:8080/"
        },
        "outputId": "10b80c6f-7638-462a-8acc-0d42b88e6836"
      },
      "outputs": [
        {
          "output_type": "stream",
          "name": "stdout",
          "text": [
            "/content/drive/MyDrive/Colab Notebooks\n"
          ]
        }
      ],
      "source": [
        "%cd '/content/drive/My Drive/Colab Notebooks'"
      ]
    },
    {
      "cell_type": "code",
      "execution_count": null,
      "metadata": {
        "id": "PWH3AkkXIfUt",
        "colab": {
          "base_uri": "https://localhost:8080/"
        },
        "outputId": "bd92c4e6-d82b-45d2-f282-125f13d7b379"
      },
      "outputs": [
        {
          "output_type": "stream",
          "name": "stderr",
          "text": [
            "WARNING:absl:Found untraced functions such as lstm_cell_4_layer_call_fn, lstm_cell_4_layer_call_and_return_conditional_losses, lstm_cell_4_layer_call_fn, lstm_cell_4_layer_call_and_return_conditional_losses, lstm_cell_4_layer_call_and_return_conditional_losses while saving (showing 5 of 5). These functions will not be directly callable after loading.\n"
          ]
        },
        {
          "output_type": "stream",
          "name": "stdout",
          "text": [
            "INFO:tensorflow:Assets written to: model_0112/assets\n"
          ]
        },
        {
          "output_type": "stream",
          "name": "stderr",
          "text": [
            "INFO:tensorflow:Assets written to: model_0112/assets\n",
            "WARNING:absl:<keras.layers.recurrent.LSTMCell object at 0x7fb51c00c290> has the same name 'LSTMCell' as a built-in Keras object. Consider renaming <class 'keras.layers.recurrent.LSTMCell'> to avoid naming conflicts when loading with `tf.keras.models.load_model`. If renaming is not possible, pass the object in the `custom_objects` parameter of the load function.\n"
          ]
        }
      ],
      "source": [
        "model.save(\"model_0112\")"
      ]
    },
    {
      "cell_type": "markdown",
      "metadata": {
        "id": "qQ9uuTiji5ya"
      },
      "source": [
        "### 6. step 03: 測試"
      ]
    },
    {
      "cell_type": "code",
      "source": [],
      "metadata": {
        "id": "g6W6V7u4IA51"
      },
      "execution_count": null,
      "outputs": []
    },
    {
      "cell_type": "markdown",
      "source": [
        "### 讀入 model"
      ],
      "metadata": {
        "id": "UGdBEU8FIC14"
      }
    },
    {
      "cell_type": "code",
      "source": [
        "# 讀入存下的 model\n",
        "from google.colab import drive\n",
        "drive.mount('/content/drive')\n"
      ],
      "metadata": {
        "colab": {
          "base_uri": "https://localhost:8080/"
        },
        "id": "JdLF6YRzIHub",
        "outputId": "33ad1a1d-83d2-4a43-ac83-6a041a5f6333"
      },
      "execution_count": null,
      "outputs": [
        {
          "output_type": "stream",
          "name": "stdout",
          "text": [
            "Mounted at /content/drive\n"
          ]
        }
      ]
    },
    {
      "cell_type": "code",
      "source": [
        "%cd '/content/drive/My Drive/Colab Notebooks'"
      ],
      "metadata": {
        "colab": {
          "base_uri": "https://localhost:8080/"
        },
        "id": "OWvRNBr1IK3c",
        "outputId": "58ffce01-3310-4125-84bd-a4c2077dd208"
      },
      "execution_count": null,
      "outputs": [
        {
          "output_type": "stream",
          "name": "stdout",
          "text": [
            "/content/drive/My Drive/Colab Notebooks\n"
          ]
        }
      ]
    },
    {
      "cell_type": "code",
      "source": [
        "from tensorflow.keras.models import load_model"
      ],
      "metadata": {
        "id": "67AiF148wRpV"
      },
      "execution_count": null,
      "outputs": []
    },
    {
      "cell_type": "code",
      "source": [
        "model = load_model('model_0112')"
      ],
      "metadata": {
        "id": "xnqZFrowIN0b"
      },
      "execution_count": null,
      "outputs": []
    },
    {
      "cell_type": "markdown",
      "source": [
        "#### 輸入測試資料預處理"
      ],
      "metadata": {
        "id": "aOwRdfJaJaC3"
      }
    },
    {
      "cell_type": "code",
      "execution_count": null,
      "metadata": {
        "id": "IxF2UvrWHkVQ"
      },
      "outputs": [],
      "source": [
        "resume_test = \"【 inline｜Data Operation Internship】 #認真推的實習🤍❤️ 歡迎想接觸 SaaS 產業、對數據分析、營收管理有興趣的人才加入我們 ~ inline is an automated cloud system designed exclusively for restaurant owners to improve workflow efficiency and management quality. 【公司名稱】：inline Apps 【工作職缺】：數據運營實習生 1 位 【薪資待遇】：158~200/hr (可談) + 績效獎金，已達勞基法最低基本薪資 【有勞健保】 【工作地點】：匯泰大樓 3F (華山文創園區對面、捷運善導寺站6號出口) 【工作時間】：每週至少 20 小時，自由排班，為半年以上的長期實習 影片介紹：https://youtu.be/tnZ2zXpbrqM 【工作內容】 * Revenue funnel management and AR handling * Apps data query and user analytics modeling * Payment Process system design and development * Global operation dashboards building and maintenance * Cross-functional teams collaborations * Working with multi-culture teams 【徵求條件】 * You’re a master of excel/google sheets * You’re familiar with Google Suite * You’re friendly, sharing and caring, and always looking for opportunity to grow * You’re curious, creative, adaptable, and a collaborative problem solver * You’re a quick-learner and with excellent execution abilities * You’re avaialable for 20 hours at least for 6 months to join the internship 【公司福利】 1. 公司提供 iPad 2. 不定期團隊戶外活動及人氣餐廳聚餐 3. 年節活動如過年尾牙、中秋烤肉， 4. 享用不盡的飲料櫃與膠囊咖啡（我們還有啤酒 tap) 5. 實習期間表現優秀有機會轉正，並獲得來自 inline founder 的推薦信\""
      ]
    },
    {
      "cell_type": "code",
      "source": [
        "list1 = list(resume_test)\n",
        "resume_test =\"\".join(list1)\n",
        "list2=[]\n",
        "list2.append(resume_test)\n",
        "print(list2)"
      ],
      "metadata": {
        "colab": {
          "base_uri": "https://localhost:8080/"
        },
        "id": "naxq5iTBDGEe",
        "outputId": "3b1a54a9-66c0-4a86-a70c-79735071d3e3"
      },
      "execution_count": null,
      "outputs": [
        {
          "output_type": "stream",
          "name": "stdout",
          "text": [
            "['【 inline｜Data Operation Internship】 #認真推的實習\\U0001f90d❤️ 歡迎想接觸 SaaS 產業、對數據分析、營收管理有興趣的人才加入我們 ~ inline is an automated cloud system designed exclusively for restaurant owners to improve workflow efficiency and management quality. 【公司名稱】：inline Apps 【工作職缺】：數據運營實習生 1 位 【薪資待遇】：158~200/hr (可談) + 績效獎金，已達勞基法最低基本薪資 【有勞健保】 【工作地點】：匯泰大樓 3F (華山文創園區對面、捷運善導寺站6號出口) 【工作時間】：每週至少 20 小時，自由排班，為半年以上的長期實習 影片介紹：https://youtu.be/tnZ2zXpbrqM 【工作內容】 * Revenue funnel management and AR handling * Apps data query and user analytics modeling * Payment Process system design and development * Global operation dashboards building and maintenance * Cross-functional teams collaborations * Working with multi-culture teams 【徵求條件】 * You’re a master of excel/google sheets * You’re familiar with Google Suite * You’re friendly, sharing and caring, and always looking for opportunity to grow * You’re curious, creative, adaptable, and a collaborative problem solver * You’re a quick-learner and with excellent execution abilities * You’re avaialable for 20 hours at least for 6 months to join the internship 【公司福利】 1. 公司提供 iPad 2. 不定期團隊戶外活動及人氣餐廳聚餐 3. 年節活動如過年尾牙、中秋烤肉， 4. 享用不盡的飲料櫃與膠囊咖啡（我們還有啤酒 tap) 5. 實習期間表現優秀有機會轉正，並獲得來自 inline founder 的推薦信']\n"
          ]
        }
      ]
    },
    {
      "cell_type": "code",
      "source": [
        "testing = tokenizer.texts_to_sequences(list2)"
      ],
      "metadata": {
        "id": "mbnGTn_ZAz6Y"
      },
      "execution_count": null,
      "outputs": []
    },
    {
      "cell_type": "code",
      "source": [
        "print(testing)"
      ],
      "metadata": {
        "colab": {
          "base_uri": "https://localhost:8080/"
        },
        "id": "W6MEjou0mh3B",
        "outputId": "edff14e8-1a52-44d0-b3ba-a8c9f7b064cf"
      },
      "execution_count": null,
      "outputs": [
        {
          "output_type": "stream",
          "name": "stdout",
          "text": [
            "[[37, 1, 4, 5, 11, 4, 5, 2, 467, 15, 6, 3, 6, 1, 7, 14, 2, 9, 6, 3, 4, 7, 5, 1, 4, 5, 3, 2, 9, 5, 8, 20, 4, 14, 36, 1, 172, 388, 592, 381, 18, 39, 38, 1, 180, 243, 207, 249, 597, 1, 8, 6, 6, 8, 1, 91, 42, 19, 93, 86, 187, 62, 126, 19, 224, 410, 104, 64, 35, 261, 257, 18, 60, 293, 130, 202, 71, 80, 1, 280, 1, 4, 5, 11, 4, 5, 2, 1, 4, 8, 1, 6, 5, 1, 6, 17, 3, 7, 16, 6, 3, 2, 15, 1, 10, 11, 7, 17, 15, 1, 8, 34, 8, 3, 2, 16, 1, 15, 2, 8, 4, 21, 5, 2, 15, 1, 2, 95, 10, 11, 17, 8, 4, 46, 2, 11, 34, 1, 30, 7, 9, 1, 9, 2, 8, 3, 6, 17, 9, 6, 5, 3, 1, 7, 28, 5, 2, 9, 8, 1, 3, 7, 1, 4, 16, 14, 9, 7, 46, 2, 1, 28, 7, 9, 43, 30, 11, 7, 28, 1, 2, 30, 30, 4, 10, 4, 2, 5, 10, 34, 1, 6, 5, 15, 1, 16, 6, 5, 6, 21, 2, 16, 2, 5, 3, 1, 173, 17, 6, 11, 4, 3, 34, 13, 1, 37, 58, 76, 184, 445, 36, 40, 4, 5, 11, 4, 5, 2, 1, 6, 14, 14, 8, 1, 37, 33, 27, 78, 267, 36, 40, 86, 187, 205, 224, 39, 38, 59, 1, 26, 1, 154, 1, 37, 127, 51, 281, 344, 36, 40, 26, 73, 120, 280, 29, 24, 24, 25, 20, 9, 1, 57, 69, 587, 55, 1, 534, 1, 667, 353, 500, 240, 12, 603, 398, 315, 219, 245, 260, 964, 219, 220, 127, 51, 1, 37, 35, 315, 334, 208, 36, 1, 37, 33, 27, 162, 156, 36, 40, 1070, 887, 85, 450, 1, 44, 30, 1, 57, 681, 580, 79, 143, 709, 263, 93, 183, 19, 555, 205, 462, 349, 1790, 318, 99, 333, 232, 560, 55, 1, 37, 33, 27, 48, 83, 36, 40, 153, 166, 133, 284, 1, 29, 24, 1, 195, 48, 12, 161, 473, 259, 146, 12, 87, 535, 124, 56, 63, 18, 210, 102, 39, 38, 1, 278, 457, 394, 529, 40, 20, 3, 3, 14, 8, 47, 25, 25, 34, 7, 17, 3, 17, 13, 32, 2, 25, 3, 5, 313, 29, 313, 95, 14, 32, 9, 173, 16, 1, 37, 33, 27, 74, 116, 36, 1, 237, 1, 9, 2, 46, 2, 5, 17, 2, 1, 30, 17, 5, 5, 2, 11, 1, 16, 6, 5, 6, 21, 2, 16, 2, 5, 3, 1, 6, 5, 15, 1, 6, 9, 1, 20, 6, 5, 15, 11, 4, 5, 21, 1, 237, 1, 6, 14, 14, 8, 1, 15, 6, 3, 6, 1, 173, 17, 2, 9, 34, 1, 6, 5, 15, 1, 17, 8, 2, 9, 1, 6, 5, 6, 11, 34, 3, 4, 10, 8, 1, 16, 7, 15, 2, 11, 4, 5, 21, 1, 237, 1, 14, 6, 34, 16, 2, 5, 3, 1, 14, 9, 7, 10, 2, 8, 8, 1, 8, 34, 8, 3, 2, 16, 1, 15, 2, 8, 4, 21, 5, 1, 6, 5, 15, 1, 15, 2, 46, 2, 11, 7, 14, 16, 2, 5, 3, 1, 237, 1, 21, 11, 7, 32, 6, 11, 1, 7, 14, 2, 9, 6, 3, 4, 7, 5, 1, 15, 6, 8, 20, 32, 7, 6, 9, 15, 8, 1, 32, 17, 4, 11, 15, 4, 5, 21, 1, 6, 5, 15, 1, 16, 6, 4, 5, 3, 2, 5, 6, 5, 10, 2, 1, 237, 1, 10, 9, 7, 8, 8, 22, 30, 17, 5, 10, 3, 4, 7, 5, 6, 11, 1, 3, 2, 6, 16, 8, 1, 10, 7, 11, 11, 6, 32, 7, 9, 6, 3, 4, 7, 5, 8, 1, 237, 1, 28, 7, 9, 43, 4, 5, 21, 1, 28, 4, 3, 20, 1, 16, 17, 11, 3, 4, 22, 10, 17, 11, 3, 17, 9, 2, 1, 3, 2, 6, 16, 8, 1, 37, 144, 145, 214, 118, 36, 1, 237, 1, 34, 7, 17, 770, 9, 2, 1, 6, 1, 16, 6, 8, 3, 2, 9, 1, 7, 30, 1, 2, 95, 10, 2, 11, 25, 21, 7, 7, 21, 11, 2, 1, 8, 20, 2, 2, 3, 8, 1, 237, 1, 34, 7, 17, 770, 9, 2, 1, 30, 6, 16, 4, 11, 4, 6, 9, 1, 28, 4, 3, 20, 1, 21, 7, 7, 21, 11, 2, 1, 8, 17, 4, 3, 2, 1, 237, 1, 34, 7, 17, 770, 9, 2, 1, 30, 9, 4, 2, 5, 15, 11, 34, 45, 1, 8, 20, 6, 9, 4, 5, 21, 1, 6, 5, 15, 1, 10, 6, 9, 4, 5, 21, 45, 1, 6, 5, 15, 1, 6, 11, 28, 6, 34, 8, 1, 11, 7, 7, 43, 4, 5, 21, 1, 30, 7, 9, 1, 7, 14, 14, 7, 9, 3, 17, 5, 4, 3, 34, 1, 3, 7, 1, 21, 9, 7, 28, 1, 237, 1, 34, 7, 17, 770, 9, 2, 1, 10, 17, 9, 4, 7, 17, 8, 45, 1, 10, 9, 2, 6, 3, 4, 46, 2, 45, 1, 6, 15, 6, 14, 3, 6, 32, 11, 2, 45, 1, 6, 5, 15, 1, 6, 1, 10, 7, 11, 11, 6, 32, 7, 9, 6, 3, 4, 46, 2, 1, 14, 9, 7, 32, 11, 2, 16, 1, 8, 7, 11, 46, 2, 9, 1, 237, 1, 34, 7, 17, 770, 9, 2, 1, 6, 1, 173, 17, 4, 10, 43, 22, 11, 2, 6, 9, 5, 2, 9, 1, 6, 5, 15, 1, 28, 4, 3, 20, 1, 2, 95, 10, 2, 11, 11, 2, 5, 3, 1, 2, 95, 2, 10, 17, 3, 4, 7, 5, 1, 6, 32, 4, 11, 4, 3, 4, 2, 8, 1, 237, 1, 34, 7, 17, 770, 9, 2, 1, 6, 46, 6, 4, 6, 11, 6, 32, 11, 2, 1, 30, 7, 9, 1, 29, 24, 1, 20, 7, 17, 9, 8, 1, 6, 3, 1, 11, 2, 6, 8, 3, 1, 30, 7, 9, 1, 99, 1, 16, 7, 5, 3, 20, 8, 1, 3, 7, 1, 140, 7, 4, 5, 1, 3, 20, 2, 1, 4, 5, 3, 2, 9, 5, 8, 20, 4, 14, 1, 37, 58, 76, 339, 264, 36, 1, 26, 13, 1, 58, 76, 128, 193, 1, 4, 14, 6, 15, 1, 29, 13, 1, 88, 196, 102, 125, 171, 225, 198, 181, 94, 61, 60, 820, 321, 851, 692, 321, 1, 44, 13, 1, 124, 582, 181, 94, 200, 170, 124, 1180, 1005, 19, 110, 1513, 1934, 1680, 12, 1, 68, 13, 1, 332, 101, 88, 882, 18, 579, 169, 864, 41, 1924, 1801, 711, 724, 115, 71, 80, 527, 35, 1686, 1021, 1, 3, 6, 14, 55, 1, 73, 13, 1, 39, 38, 102, 83, 250, 299, 230, 670, 35, 155, 66, 447, 234, 12, 147, 558, 327, 188, 161, 1, 4, 5, 11, 4, 5, 2, 1, 30, 7, 17, 5, 15, 2, 9, 1, 18, 381, 733, 216]]\n"
          ]
        }
      ]
    },
    {
      "cell_type": "code",
      "source": [
        "testing = np.array(testing)"
      ],
      "metadata": {
        "id": "AqJS2K1h5qUN"
      },
      "execution_count": null,
      "outputs": []
    },
    {
      "cell_type": "code",
      "source": [
        "print(testing)"
      ],
      "metadata": {
        "colab": {
          "base_uri": "https://localhost:8080/"
        },
        "id": "70GKdeoTBAA5",
        "outputId": "f319de5b-5567-443d-c4cd-eaa04ac3233a"
      },
      "execution_count": null,
      "outputs": [
        {
          "output_type": "stream",
          "name": "stdout",
          "text": [
            "[[ 37   1   4 ... 381 733 216]]\n"
          ]
        }
      ]
    },
    {
      "cell_type": "code",
      "source": [
        "r = model.predict(testing)\n"
      ],
      "metadata": {
        "id": "zNByNhox2G1f"
      },
      "execution_count": null,
      "outputs": []
    },
    {
      "cell_type": "code",
      "source": [
        "path3 = '/content/drive/MyDrive/110-1 學期用/110-1 設計思考與人工智慧/final project/text2.txt'\n",
        "f= open(path3,'r')"
      ],
      "metadata": {
        "id": "eNpbO5Ug2bKw"
      },
      "execution_count": null,
      "outputs": []
    },
    {
      "cell_type": "code",
      "source": [
        "text_sentence = []\n",
        "with open(path3,\"r\",encoding='Big5',errors='ignore') as f:\n",
        "  for i in f.readlines():\n",
        "    if i.strip() != '':\n",
        "      text_sentence.append(i.strip())\n",
        "text =  ''.join(text_sentence)\n",
        "text[:150]\n",
        "testing3 = []\n",
        "testing3.append(text)\n",
        "print(testing3)"
      ],
      "metadata": {
        "colab": {
          "base_uri": "https://localhost:8080/"
        },
        "id": "jJuSl21w2hIO",
        "outputId": "55cd3d1b-3aa8-425a-87e3-403e699171b1"
      },
      "execution_count": null,
      "outputs": [
        {
          "output_type": "stream",
          "name": "stdout",
          "text": [
            "['1.\\t規劃分析壽險(新契約、核保、保費等流程)及週邊相關系統。2.\\t統整業務單位的需求，進行作業流程規劃。3.\\t掌握需求進度，擔任開發人員與使用者間的溝通窗口，並協助使用者制定UAT策略與跟進。4.\\t配合專案進行需求項目的內容彙整,以配合專案開發流程與專案UAT的協調。5.\\t其他主管交辦事項。1.\\t至少 3 年保險公司工作經驗 。2.\\t3- 5 年 核心系統業務分析(NB,POS..)或規劃經驗。3.\\t有1-2 年 專案規劃或參與執行經驗 。4.\\t有核心系統分析經驗 或有參與過行動投保,網路投保,B2B,and B2C等數位化專案經驗尤佳。5.\\t熟悉 MS Office ( Word, Excel, Power Point, Visio) 。']\n"
          ]
        }
      ]
    },
    {
      "cell_type": "code",
      "source": [
        "t3 = tokenizer.texts_to_sequences(testing3)"
      ],
      "metadata": {
        "id": "vpg4ZXik2pQe"
      },
      "execution_count": null,
      "outputs": []
    },
    {
      "cell_type": "code",
      "source": [
        "result3 = model.predict(t3)"
      ],
      "metadata": {
        "id": "pkCL2wwd2vIO"
      },
      "execution_count": null,
      "outputs": []
    },
    {
      "cell_type": "markdown",
      "source": [
        "#### 丟入模型測試\n"
      ],
      "metadata": {
        "id": "Q8eBmtCYJibL"
      }
    },
    {
      "cell_type": "code",
      "source": [
        "## 從Google Cloud call txt file\n",
        "from google.colab import drive\n",
        "drive.mount('/content/drive')"
      ],
      "metadata": {
        "id": "QIGUA4Eafk0G"
      },
      "execution_count": null,
      "outputs": []
    },
    {
      "cell_type": "markdown",
      "source": [
        "#### 丟入商業分析相關 Job Description"
      ],
      "metadata": {
        "id": "gmIuTo0pnrnD"
      }
    },
    {
      "cell_type": "markdown",
      "source": [
        "實習資訊分享—招募商業分析實習生?《公司簡介》\n",
        "Rainmaking Innovation是知名的國際企業創新與策略發展公司：\n",
        "針對新創企業，透過加速計畫設計可行且具發展性的商業模式，將之與大企業對接，進行合資發展的策略聯盟。\n",
        "針對大型企業，透過顛覆式創新找出企業內部機會，藉由革新組織與拓展視野以激發企業潛能。\n",
        "Rainmaking Innovation著重歐洲佈點全球，全球辦公室遍佈倫敦、杜拜、紐約、日本、新加坡等地，同時在各地結盟的世界500強企業夥伴包括：IKEA、VISA、MasterCard、Facebook、Google、Amazon、Citigroup、NTT Data、阪急集團等國際知名企業。\n",
        "Rainmaking Innovation Taiwan正迅速擴張，有豐富的新創輔導、企業創新經驗，也主辦多次世界新創大賽，現在正旋風式鏈結全球資源與台灣三創生態圈：世界500強企業、新創團隊、政府機構、投資人、產學聯盟，建立世界級的創新交流網路。\n",
        "【招募期間】\n",
        "不限\n",
        "【招募人數】\n",
        "2-3位\n",
        "【開放職缺】\n",
        "商業分析實習生\n",
        "【工作內容】\n",
        "資料蒐集、情報分析等研究任務，並將研究成果轉化為文字內容與評估報告\n",
        "參與商業專案提案與籌備，將專案從0-100完整做出來\n",
        "台灣新創產業趨勢研究報告資料蒐集、分析與撰寫\n",
        "協助公司各項專案進行\n",
        "我們在尋找的妳/你……\n",
        "具備統計軟體操作能力（SPSS、Python、C++、R…），會爬蟲更佳\n",
        "擅長資料搜集與彙整，具商業敏感度\n",
        "積極主動、有責任心完成任務\n",
        "具問題解決與自我學習能力\n",
        "熱愛有挑戰性的工作，對新科技、商業模式、創新產業有熱情\n",
        "能獨立運作，完成工作；也能團隊合作，具備團隊意識\n",
        "對進入顧問、創投業、新創有興趣者\n",
        "??我們可以給妳/你……\n",
        " 遠端／彈性上下班，兼顧實習與課業\n",
        "與CEO、主管一同開會，扎實的職場歷練\n",
        "主動提案的機會，想接受商業市場的實戰考驗就來吧！\n",
        "主辦國際創新大賽，與全球新創團隊、投資人、企業交流\n",
        "遍佈全台的開放式辦公室，除了舒適的工作環境還能認識其他團隊\n",
        "每週固定運動日，與新創團隊變成球友，工作之餘不忘兼顧健康！\n",
        "不定期Team Building\n",
        "實習階段合作順暢，有機會畢業後直接轉正職！\n",
        "【薪資待遇】\n",
        "法定基本薪資，時薪 158元 \n",
        "【上班地點（同面試地點）】\n",
        "台南市新市區南科三路17號2樓之2（創新卓越中心）\n",
        "【工作時間】\n",
        "日班，9:00-18:00（可彈性上下班）        \n",
        "每週至少2天進公司\n",
        "請將中英文CV以及作品集寄至 support@rainmaking.tw。\n",
        "寄出CV前，記得瀏覽我們的臉書粉專以及官方網站，瞭解Rainmaking Innovation並告訴我們妳／你就是我們在找的人！"
      ],
      "metadata": {
        "id": "0fk8SIXmF2UW"
      }
    },
    {
      "cell_type": "code",
      "source": [
        "path1 = '/content/drive/MyDrive/110-1 學期用/110-1 設計思考與人工智慧/final project/text1.txt'\n",
        "f= open(path1,'r')"
      ],
      "metadata": {
        "id": "iGziiwUYgSgV"
      },
      "execution_count": null,
      "outputs": []
    },
    {
      "cell_type": "code",
      "source": [
        "text_sentence = []\n",
        "with open(path1,\"r\",encoding='Big5',errors='ignore') as f:\n",
        "  for i in f.readlines():\n",
        "    if i.strip() != '':\n",
        "      text_sentence.append(i.strip())\n",
        "text =  ''.join(text_sentence)\n",
        "text[:150]\n",
        "testing1 = []\n",
        "testing1.append(text)\n",
        "print(testing1)"
      ],
      "metadata": {
        "colab": {
          "base_uri": "https://localhost:8080/"
        },
        "id": "gVg3lLkfjBzO",
        "outputId": "bec9e772-f98e-4588-a6ff-faeb437e4368"
      },
      "execution_count": null,
      "outputs": [
        {
          "output_type": "stream",
          "name": "stdout",
          "text": [
            "['?實習資訊分享—招募商業分析實習生?《公司簡介》Rainmaking Innovation是知名的國際企業創新與策略發展公司：??針對新創企業，透過加速計畫設計可行且具發展性的商業模式，將之與大企業對接，進行合資發展的策略聯盟。??針對大型企業，透過顛覆式創新找出企業內部機會，藉由革新組織與拓展視野以激發企業潛能。Rainmaking Innovation著重歐洲佈點全球，全球辦公室遍佈倫敦、杜拜、紐約、日本、新加坡等地，同時在各地結盟的世界500強企業夥伴包括：IKEA、VISA、MasterCard、Facebook、Google、Amazon、Citigroup、NTT Data、阪急集團等國際知名企業。Rainmaking Innovation Taiwan正迅速擴張，有豐富的新創輔導、企業創新經驗，也主辦多次世界新創大賽，現在正旋風式鏈結全球資源與台灣三創生態圈：世界500強企業、新創團隊、政府機構、投資人、產學聯盟，建立世界級的創新交流網路。【招募期間】不限【招募人數】2-3位【開放職缺】商業分析實習生【工作內容】1. 資料蒐集、情報分析等研究任務，並將研究成果轉化為文字內容與評估報告2. 參與商業專案提案與籌備，將專案從0-100完整做出來3. 台灣新創產業趨勢研究報告資料蒐集、分析與撰寫4. 協助公司各項專案進行??我們在尋找的妳/你……1. 具備統計軟體操作能力（SPSS、Python、C++、R…），會爬蟲更佳2. 擅長資料搜集與彙整，具商業敏感度3. 積極主動、有責任心完成任務4. 具問題解決與自我學習能力5. 熱愛有挑戰性的工作，對新科技、商業模式、創新產業有熱情6. 能獨立運作，完成工作；也能團隊合作，具備團隊意識7. 對進入顧問、創投業、新創有興趣者??我們可以給妳/你……1. 遠端／彈性上下班，兼顧實習與課業2. 與CEO、主管一同開會，扎實的職場歷練3. 主動提案的機會，想接受商業市場的實戰考驗就來吧！4. 主辦國際創新大賽，與全球新創團隊、投資人、企業交流5. 遍佈全台的開放式辦公室，除了舒適的工作環境還能認識其他團隊6. 每週固定運動日，與新創團隊變成球友，工作之餘不忘兼顧健康！7. 不定期Team Building8. 實習階段合作順暢，有機會畢業後直接轉正職！【薪資待遇】法定基本薪資，時薪 158元【上班地點（同面試地點）】台南市新市區南科三路17號2樓之2（創新卓越中心）【工作時間】日班，9:00-18:00（可彈性上下班）每週至少2天進公司請將中英文CV以及作品集寄至 support@rainmaking.tw。寄出CV前，記得瀏覽我們的臉書粉專以及官方網站，瞭解Rainmaking Innovation並告訴我們妳／你就是我們在找的人！']\n"
          ]
        }
      ]
    },
    {
      "cell_type": "code",
      "source": [
        "t1 = tokenizer.texts_to_sequences(testing1)"
      ],
      "metadata": {
        "id": "t52N7A2wk8DX"
      },
      "execution_count": null,
      "outputs": []
    },
    {
      "cell_type": "code",
      "source": [
        "print(t1)"
      ],
      "metadata": {
        "colab": {
          "base_uri": "https://localhost:8080/"
        },
        "id": "fj8peIb6mWjq",
        "outputId": "4e908eee-fe0c-4ba6-a0ba-7cedcefdc4a9"
      },
      "execution_count": null,
      "outputs": [
        {
          "output_type": "stream",
          "name": "stdout",
          "text": [
            "[[23, 39, 38, 51, 233, 62, 332, 436, 272, 282, 123, 42, 62, 126, 39, 38, 59, 23, 545, 58, 76, 390, 394, 540, 9, 6, 4, 5, 16, 6, 43, 4, 5, 21, 1, 4, 5, 5, 7, 46, 6, 3, 4, 7, 5, 97, 265, 184, 18, 158, 351, 238, 42, 143, 103, 41, 356, 446, 98, 325, 58, 76, 40, 23, 23, 833, 93, 103, 143, 238, 42, 12, 358, 170, 130, 431, 77, 330, 135, 77, 69, 50, 367, 92, 98, 325, 221, 18, 123, 42, 437, 149, 12, 213, 231, 41, 85, 238, 42, 93, 249, 12, 182, 50, 84, 51, 98, 325, 18, 356, 446, 323, 1217, 31, 23, 23, 833, 93, 85, 372, 238, 42, 12, 358, 170, 1933, 794, 149, 143, 103, 376, 232, 238, 42, 74, 163, 155, 66, 12, 1002, 473, 1347, 103, 423, 604, 41, 959, 325, 347, 1016, 56, 965, 98, 238, 42, 826, 49, 31, 9, 6, 4, 5, 16, 6, 43, 4, 5, 21, 1, 4, 5, 5, 7, 46, 6, 3, 4, 7, 5, 658, 380, 1087, 705, 947, 156, 258, 501, 12, 258, 501, 226, 58, 415, 1186, 947, 1556, 969, 19, 1555, 1112, 19, 1109, 434, 19, 142, 220, 19, 103, 130, 787, 113, 162, 12, 160, 48, 75, 229, 162, 352, 1217, 18, 585, 521, 73, 24, 24, 509, 238, 42, 422, 403, 346, 774, 40, 4, 43, 2, 6, 19, 46, 4, 8, 6, 19, 16, 6, 8, 3, 2, 9, 10, 6, 9, 15, 19, 30, 6, 10, 2, 32, 7, 7, 43, 19, 21, 7, 7, 21, 11, 2, 19, 6, 16, 6, 313, 7, 5, 19, 10, 4, 3, 4, 21, 9, 7, 17, 14, 19, 5, 3, 3, 1, 15, 6, 3, 6, 19, 2927, 1483, 310, 125, 113, 158, 351, 265, 184, 238, 42, 31, 9, 6, 4, 5, 16, 6, 43, 4, 5, 21, 1, 4, 5, 5, 7, 46, 6, 3, 4, 7, 5, 1, 3, 6, 4, 28, 6, 5, 234, 1051, 431, 869, 1060, 12, 35, 854, 697, 18, 103, 143, 828, 349, 19, 238, 42, 143, 103, 72, 100, 12, 252, 139, 226, 204, 518, 585, 521, 103, 143, 85, 922, 12, 299, 75, 234, 2165, 674, 149, 852, 352, 258, 501, 51, 530, 41, 90, 322, 291, 143, 59, 479, 997, 40, 585, 521, 73, 24, 24, 509, 238, 42, 19, 103, 143, 125, 171, 19, 359, 813, 155, 564, 19, 194, 51, 60, 19, 91, 54, 323, 1217, 12, 292, 274, 585, 521, 543, 18, 143, 103, 241, 244, 209, 239, 31, 37, 272, 282, 102, 83, 36, 88, 341, 37, 272, 282, 60, 86, 36, 29, 22, 44, 154, 37, 151, 505, 78, 267, 36, 123, 42, 62, 126, 39, 38, 59, 37, 33, 27, 74, 116, 36, 26, 13, 1, 51, 169, 716, 310, 19, 337, 203, 62, 126, 113, 247, 298, 256, 65, 12, 147, 213, 247, 298, 111, 311, 447, 185, 87, 79, 476, 74, 116, 41, 675, 754, 203, 343, 29, 13, 1, 283, 41, 123, 42, 89, 108, 128, 108, 41, 1040, 141, 12, 213, 89, 108, 470, 24, 22, 26, 24, 24, 303, 168, 411, 232, 188, 44, 13, 1, 90, 322, 103, 143, 91, 42, 691, 648, 247, 298, 203, 343, 51, 169, 716, 310, 19, 62, 126, 41, 433, 286, 68, 13, 1, 105, 96, 58, 76, 229, 288, 89, 108, 182, 50, 23, 23, 71, 80, 75, 490, 376, 18, 875, 25, 82, 873, 873, 26, 13, 1, 92, 141, 266, 77, 326, 150, 427, 27, 49, 67, 115, 8, 14, 8, 8, 19, 14, 34, 3, 20, 7, 5, 19, 10, 534, 534, 19, 9, 873, 112, 12, 66, 1430, 1521, 223, 192, 29, 13, 1, 669, 210, 51, 169, 772, 310, 41, 872, 168, 12, 92, 123, 42, 665, 443, 199, 44, 13, 1, 377, 417, 139, 94, 19, 35, 314, 256, 174, 303, 111, 256, 65, 68, 13, 1, 92, 167, 218, 177, 338, 41, 161, 71, 54, 38, 49, 67, 73, 13, 1, 290, 511, 35, 523, 440, 221, 18, 33, 27, 12, 93, 103, 211, 178, 19, 123, 42, 437, 149, 19, 143, 103, 91, 42, 35, 290, 337, 99, 13, 1, 49, 478, 274, 205, 27, 12, 303, 111, 33, 27, 451, 252, 49, 125, 171, 84, 27, 12, 92, 141, 125, 171, 270, 350, 159, 13, 1, 93, 182, 202, 328, 167, 19, 143, 194, 42, 19, 103, 143, 35, 261, 257, 121, 23, 23, 71, 80, 69, 56, 419, 875, 25, 82, 873, 873, 26, 13, 1, 641, 456, 623, 507, 221, 63, 217, 146, 12, 624, 328, 39, 38, 41, 335, 42, 29, 13, 1, 41, 10, 2, 7, 19, 139, 104, 52, 160, 151, 66, 12, 1401, 39, 18, 78, 175, 157, 455, 44, 13, 1, 139, 94, 128, 108, 18, 155, 66, 12, 207, 249, 520, 123, 42, 137, 175, 18, 39, 440, 368, 100, 355, 188, 725, 131, 68, 13, 1, 139, 226, 158, 351, 143, 103, 85, 922, 12, 41, 258, 501, 103, 143, 125, 171, 19, 194, 51, 60, 19, 238, 42, 241, 244, 73, 13, 1, 1186, 947, 258, 90, 18, 151, 505, 149, 226, 58, 415, 12, 630, 242, 916, 435, 18, 33, 27, 373, 360, 527, 49, 388, 350, 236, 251, 125, 171, 99, 13, 1, 153, 166, 893, 196, 205, 94, 142, 12, 41, 103, 143, 125, 171, 561, 111, 501, 657, 12, 33, 27, 231, 1063, 88, 1545, 624, 328, 334, 831, 131, 159, 13, 1, 88, 196, 102, 3, 2, 6, 16, 1, 32, 17, 4, 11, 15, 4, 5, 21, 120, 13, 1, 39, 38, 686, 369, 84, 27, 999, 978, 12, 35, 155, 66, 469, 42, 276, 444, 249, 447, 234, 78, 131, 37, 127, 51, 281, 344, 36, 245, 196, 219, 220, 127, 51, 12, 48, 127, 1, 26, 73, 120, 295, 37, 63, 146, 162, 156, 115, 160, 183, 215, 162, 156, 112, 36, 90, 566, 137, 103, 137, 263, 566, 211, 291, 239, 26, 159, 333, 29, 450, 231, 29, 115, 143, 103, 1345, 834, 110, 174, 112, 37, 33, 27, 48, 83, 36, 142, 146, 12, 165, 47, 24, 24, 22, 26, 120, 47, 24, 24, 115, 69, 507, 221, 63, 217, 146, 112, 153, 166, 133, 284, 29, 176, 182, 58, 76, 129, 213, 110, 246, 79, 10, 46, 56, 61, 27, 70, 310, 412, 133, 1, 8, 17, 14, 14, 7, 9, 3, 273, 9, 6, 4, 5, 16, 6, 43, 4, 5, 21, 13, 3, 28, 31, 412, 232, 10, 46, 254, 12, 765, 327, 1169, 899, 71, 80, 18, 1038, 348, 684, 89, 56, 61, 617, 138, 209, 318, 12, 992, 177, 9, 6, 4, 5, 16, 6, 43, 4, 5, 21, 1, 4, 5, 5, 7, 46, 6, 3, 4, 7, 5, 147, 343, 1015, 71, 80, 875, 623, 82, 355, 97, 71, 80, 75, 376, 18, 60, 131]]\n"
          ]
        }
      ]
    },
    {
      "cell_type": "code",
      "source": [
        "t1 = np.array(t1)"
      ],
      "metadata": {
        "id": "nlb9F8f7lVup"
      },
      "execution_count": null,
      "outputs": []
    },
    {
      "cell_type": "code",
      "execution_count": null,
      "metadata": {
        "id": "GgMNjvVSnB5J",
        "colab": {
          "base_uri": "https://localhost:8080/"
        },
        "outputId": "21d1479d-2e27-4070-aca2-b138e7fc948b"
      },
      "outputs": [
        {
          "output_type": "stream",
          "name": "stdout",
          "text": [
            "WARNING:tensorflow:5 out of the last 15 calls to <function Model.make_predict_function.<locals>.predict_function at 0x7fb4e14e9320> triggered tf.function retracing. Tracing is expensive and the excessive number of tracings could be due to (1) creating @tf.function repeatedly in a loop, (2) passing tensors with different shapes, (3) passing Python objects instead of tensors. For (1), please define your @tf.function outside of the loop. For (2), @tf.function has experimental_relax_shapes=True option that relaxes argument shapes that can avoid unnecessary retracing. For (3), please refer to https://www.tensorflow.org/guide/function#controlling_retracing and https://www.tensorflow.org/api_docs/python/tf/function for  more details.\n"
          ]
        },
        {
          "output_type": "stream",
          "name": "stderr",
          "text": [
            "WARNING:tensorflow:5 out of the last 15 calls to <function Model.make_predict_function.<locals>.predict_function at 0x7fb4e14e9320> triggered tf.function retracing. Tracing is expensive and the excessive number of tracings could be due to (1) creating @tf.function repeatedly in a loop, (2) passing tensors with different shapes, (3) passing Python objects instead of tensors. For (1), please define your @tf.function outside of the loop. For (2), @tf.function has experimental_relax_shapes=True option that relaxes argument shapes that can avoid unnecessary retracing. For (3), please refer to https://www.tensorflow.org/guide/function#controlling_retracing and https://www.tensorflow.org/api_docs/python/tf/function for  more details.\n"
          ]
        }
      ],
      "source": [
        "result1 = model.predict(t1)"
      ]
    },
    {
      "cell_type": "code",
      "source": [
        "# 呈現結果\n",
        "score1 = result1*100\n",
        "\n",
        "if result1[0]>0.6:\n",
        "    print(score1,\"%\",\"判斷為符合!\")\n",
        "else:\n",
        "    print(score1,\"%\",\"判斷為不符合!\")\n"
      ],
      "metadata": {
        "colab": {
          "base_uri": "https://localhost:8080/"
        },
        "id": "isDRdvwSMqoD",
        "outputId": "bf10cfe9-bf98-40a4-d4ff-1b68371fe6a8"
      },
      "execution_count": null,
      "outputs": [
        {
          "output_type": "stream",
          "name": "stdout",
          "text": [
            "[[85.70442]] % 判斷為符合!\n"
          ]
        }
      ]
    },
    {
      "cell_type": "markdown",
      "source": [
        "#### 丟入\"非\"商業分析相關 Job Description"
      ],
      "metadata": {
        "id": "UzLCX-dJn4fb"
      }
    },
    {
      "cell_type": "markdown",
      "source": [
        "電商實習 電商趨勢時代來臨 不限科系 先送先審 提供mac筆電\n",
        "我們是誰: Shopline 商線科技\n",
        "我們在找誰: 金流實習生 Payment Business Intern\n",
        "\n",
        "你會負責到...\n",
        "、協助彙整與更新支付業務數據\n",
        "、協助商家文件及實地查核\n",
        "、商家需求調研：了解客戶需求並提出產品需求\n",
        "、彙整提供給內部及金融機構的資料\n",
        "、共同參與電商支付服務的策略及產品上線推廣\n",
        "\n",
        "如果你本身...\n",
        "、注重工作細節、做事細心謹慎、待人親切\n",
        "、具良好文書作業能力、可化繁為簡\n",
        "、高EQ/IQ的溝通、對應、處理問題能力\n",
        "、積極進取樂於尋找解決方案\n",
        "、對於新創線上工具與科技有快速的學習能力與熱誠\n",
        "、熟悉 Mac OS、Microsoft office kit、Google Suite\n",
        "、具數據分析能力（加分！！）\n",
        "、一週至少能支援三個整天並配合至少三個月以上\n",
        "\n",
        "就非常適合來應徵此實習～～～\n",
        "\n",
        "時薪：170元\n",
        "上班時間：10:00-19:00\n",
        "工作上手後，可與主管討論是否彈性往前調整半小時或一小時！\n",
        "\n",
        "福利底加拉～\n",
        "1. 每月200的零食金之投你想食，擇你所愛\n",
        "2. 每季不定期聚餐\n",
        "3. 各種節慶相關的活動參與\n",
        "4. 現在進來還可以參加尾牙唷\n",
        "\n",
        "關於SHOPLINE：\n",
        "SHOPLINE 於 2013 年創立，致力發展創新品牌網店平台，讓商家可以輕鬆架設功能完善的個人化網路商店，並專注優化用戶體驗。\n",
        "SHOPLINE提供一個服務齊全的開店配套系統，讓商家不僅在短時間內就可以建置適合所有裝置瀏覽的獨立網店，更可同時擁有專業的訂單暨庫存管理系統、多元化的物流及支付選項、獨具風格的店舖設計、數據流量分析報告以及其他行銷功能模組、跨平台串接等工具服務。\n",
        "我們保有外商的制度福利與新創公司的發展彈性，歡迎對新創、電商有熱誠的你，加入 SHOPLINE，成為我們的頂尖成員！\n",
        "歡迎查看SHOPLINE連結更認識我們：https://shopline.tw/\n",
        "\n",
        "將履歷投遞這裡：\n",
        "至少三擇一不然看不到人才你在哪\n",
        "或是你要多多曝光全投遞，我們也歡迎辣\n",
        "104\n",
        "https://www.104.com.tw/job/7g72j?jobsource=company_job\n",
        "Yourator\n",
        "https://www.yourator.co/companies/shopline/jobs/20609\n",
        "直接夾帶履歷寄到 will.chang@shoplineapp.com\n",
        "如果金流實習不是你的菜，\n",
        "不要轉台，在求職平台還有其他實習與正職缺等你來投遞\n"
      ],
      "metadata": {
        "id": "rE-RrtRKGQhd"
      }
    },
    {
      "cell_type": "code",
      "source": [
        "path0 = '/content/drive/MyDrive/110-1 學期用/110-1 設計思考與人工智慧/final project/text3.txt'\n",
        "f= open(path0,'r')"
      ],
      "metadata": {
        "id": "EGS4TlGEn9H5"
      },
      "execution_count": null,
      "outputs": []
    },
    {
      "cell_type": "code",
      "source": [
        "text_sentence = []\n",
        "with open(path0,\"r\",encoding='Big5',errors='ignore') as f:\n",
        "  for i in f.readlines():\n",
        "    if i.strip() != '':\n",
        "      text_sentence.append(i.strip())\n",
        "text =  ''.join(text_sentence)\n",
        "text[:150]\n",
        "testing0 = []\n",
        "testing0.append(text)\n",
        "print(testing0)"
      ],
      "metadata": {
        "colab": {
          "base_uri": "https://localhost:8080/"
        },
        "id": "x2jvmXQGoD62",
        "outputId": "42e82c7a-dfda-4ddd-9bf9-78282051eec7"
      },
      "execution_count": null,
      "outputs": [
        {
          "output_type": "stream",
          "name": "stdout",
          "text": [
            "['#電商實習 ＃電商趨勢時代來臨 ＃不限科系 ＃先送先審 ＃提供mac筆電我們是誰: Shopline 商線科技我們在找誰: 金流實習生 Payment Business Intern你會負責到...、協助彙整與更新支付業務數據、協助商家文件及實地查核、商家需求調研：了解客戶需求並提出產品需求、彙整提供給內部及金融機構的資料、共同參與電商支付服務的策略及產品上線推廣如果你本身...、注重工作細節、做事細心謹慎、待人親切、具良好文書作業能力、可化繁為簡、高EQ/IQ的溝通、對應、處理問題能力、積極進取樂於尋找解決方案、對於新創線上工具與科技有快速的學習能力與熱誠、熟悉 Mac OS、Microsoft office kit、Google Suite、具數據分析能力（加分！！）、一週至少能支援三個整天並配合至少三個月以上就非常適合來應徵此實習∼∼∼時薪：170元上班時間：10:00-19:00工作上手後，可與主管討論是否彈性往前調整半小時或一小時！福利底加拉∼1. 每月200的零食金之投你想食，擇你所愛2. 每季不定期聚餐3. 各種節慶相關的活動參與4. 現在進來還可以參加尾牙唷關於SHOPLINE：SHOPLINE 於 2013 年創立，致力發展創新品牌網店平台，讓商家可以輕鬆架設功能完善的個人化網路商店，並專注優化用戶體驗。SHOPLINE提供一個服務齊全的開店配套系統，讓商家不僅在短時間內就可以建置適合所有裝置瀏覽的獨立網店，更可同時擁有專業的訂單暨庫存管理系統、多元化的物流及支付選項、獨具風格的店舖設計、數據流量分析報告以及其他行銷功能模組、跨平台串接等工具服務。我們保有外商的制度福利與新創公司的發展彈性，歡迎對新創、電商有熱誠的你，加入 SHOPLINE，成為我們的頂尖成員！歡迎查看SHOPLINE連結更認識我們：https://shopline.tw/將履歷投遞這裡：至少三擇一不然看不到人才你在哪或是你要多多曝光全投遞，我們也歡迎辣104https://www.104.com.tw/job/7g72j?jobsource=company_jobYouratorhttps://www.yourator.co/companies/shopline/jobs/20609直接夾帶履歷寄到 will.chang@shoplineapp.com如果金流實習不是你的菜，不要轉台，在求職平台還有其他實習與正職缺等你來投遞?( ?° ???°)??']\n"
          ]
        }
      ]
    },
    {
      "cell_type": "code",
      "source": [
        "t0 = tokenizer.texts_to_sequences(testing0)"
      ],
      "metadata": {
        "id": "H6UuGHp6oEsP"
      },
      "execution_count": null,
      "outputs": []
    },
    {
      "cell_type": "code",
      "source": [
        "print(t0)"
      ],
      "metadata": {
        "colab": {
          "base_uri": "https://localhost:8080/"
        },
        "id": "uEx4FOe_oJSW",
        "outputId": "52e179bb-7758-4fa7-9d01-643c0db9cb9a"
      },
      "execution_count": null,
      "outputs": [
        {
          "output_type": "stream",
          "name": "stdout",
          "text": [
            "[[172, 190, 123, 39, 38, 1, 944, 190, 123, 691, 648, 48, 504, 188, 953, 1, 944, 88, 341, 211, 201, 1, 944, 308, 552, 308, 562, 1, 944, 128, 193, 16, 6, 10, 829, 190, 71, 80, 97, 1332, 47, 1, 8, 20, 7, 14, 11, 4, 5, 2, 1, 123, 342, 211, 178, 71, 80, 75, 376, 1332, 47, 1, 240, 244, 39, 38, 59, 1, 14, 6, 34, 16, 2, 5, 3, 1, 32, 17, 8, 4, 5, 2, 8, 8, 1, 4, 5, 3, 2, 9, 5, 82, 66, 371, 314, 134, 13, 13, 13, 19, 105, 96, 872, 168, 41, 223, 103, 483, 707, 42, 65, 86, 187, 19, 105, 96, 123, 248, 79, 118, 61, 39, 162, 553, 499, 19, 123, 248, 119, 145, 287, 247, 40, 242, 177, 179, 225, 119, 145, 147, 128, 232, 91, 70, 119, 145, 19, 872, 168, 128, 193, 419, 74, 163, 61, 240, 429, 155, 564, 18, 51, 169, 19, 495, 160, 283, 41, 190, 123, 483, 707, 222, 65, 18, 356, 446, 61, 91, 70, 63, 342, 381, 374, 200, 311, 82, 220, 533, 13, 13, 13, 19, 528, 380, 33, 27, 354, 582, 19, 411, 152, 354, 174, 1078, 1187, 19, 281, 60, 773, 790, 19, 92, 391, 164, 79, 348, 27, 42, 49, 67, 19, 69, 185, 1129, 87, 390, 19, 285, 2, 173, 25, 4, 173, 18, 253, 132, 19, 93, 148, 19, 305, 64, 167, 218, 49, 67, 19, 377, 417, 182, 502, 428, 122, 490, 376, 177, 338, 138, 108, 19, 93, 122, 103, 143, 342, 63, 33, 92, 41, 211, 178, 35, 357, 431, 18, 54, 38, 49, 67, 41, 290, 644, 19, 268, 294, 1, 16, 6, 10, 1, 7, 8, 19, 16, 4, 10, 9, 7, 8, 7, 30, 3, 1, 7, 30, 30, 4, 10, 2, 1, 43, 4, 3, 19, 21, 7, 7, 21, 11, 2, 1, 8, 17, 4, 3, 2, 19, 92, 86, 187, 62, 126, 49, 67, 115, 130, 62, 131, 131, 112, 19, 52, 166, 133, 284, 49, 483, 599, 291, 106, 168, 176, 147, 277, 84, 133, 284, 291, 106, 206, 56, 63, 355, 497, 379, 435, 84, 188, 148, 144, 453, 39, 38, 449, 449, 449, 48, 127, 40, 26, 159, 24, 295, 63, 146, 48, 83, 40, 26, 24, 47, 24, 24, 22, 26, 165, 47, 24, 24, 33, 27, 63, 472, 276, 12, 69, 41, 139, 104, 565, 454, 97, 939, 507, 221, 730, 254, 287, 168, 535, 195, 48, 114, 52, 195, 48, 131, 339, 264, 836, 130, 1230, 449, 26, 13, 1, 153, 206, 29, 24, 24, 18, 510, 458, 240, 231, 194, 82, 207, 458, 12, 789, 82, 307, 511, 29, 13, 1, 153, 1009, 88, 196, 102, 692, 321, 44, 13, 1, 229, 538, 582, 1041, 107, 81, 18, 181, 94, 283, 41, 68, 13, 1, 299, 75, 182, 188, 527, 69, 56, 283, 130, 1180, 1005, 985, 81, 122, 8, 20, 7, 14, 11, 4, 5, 2, 40, 8, 20, 7, 14, 11, 4, 5, 2, 1, 122, 1, 29, 24, 26, 44, 1, 124, 143, 274, 12, 687, 67, 98, 325, 143, 103, 70, 312, 209, 515, 262, 90, 12, 316, 123, 248, 69, 56, 738, 1089, 633, 135, 584, 49, 303, 462, 18, 106, 60, 185, 209, 239, 123, 515, 12, 147, 89, 528, 230, 185, 101, 225, 150, 100, 31, 8, 20, 7, 14, 11, 4, 5, 2, 128, 193, 52, 106, 222, 65, 1455, 258, 18, 151, 515, 277, 1188, 201, 266, 12, 316, 123, 248, 88, 905, 75, 739, 48, 83, 74, 355, 69, 56, 292, 600, 435, 84, 307, 35, 748, 600, 1169, 899, 18, 478, 274, 209, 515, 12, 223, 69, 160, 48, 567, 35, 89, 42, 18, 718, 320, 1137, 598, 830, 104, 64, 201, 266, 19, 204, 295, 185, 18, 421, 244, 61, 483, 707, 438, 288, 19, 478, 92, 674, 425, 18, 515, 1445, 135, 77, 19, 86, 187, 244, 392, 62, 126, 203, 343, 56, 61, 236, 251, 50, 136, 584, 49, 437, 423, 19, 461, 262, 90, 1151, 249, 113, 33, 92, 222, 65, 31, 71, 80, 208, 35, 198, 123, 18, 400, 199, 339, 264, 41, 103, 143, 58, 76, 18, 98, 325, 507, 221, 12, 180, 243, 93, 103, 143, 19, 190, 123, 35, 290, 644, 18, 82, 12, 130, 202, 1, 8, 20, 7, 14, 11, 4, 5, 2, 12, 111, 87, 71, 80, 18, 1000, 1050, 111, 227, 131, 180, 243, 553, 406, 8, 20, 7, 14, 11, 4, 5, 2, 397, 352, 223, 388, 350, 71, 80, 40, 20, 3, 3, 14, 8, 47, 25, 25, 8, 20, 7, 14, 11, 4, 5, 2, 13, 3, 28, 25, 213, 212, 157, 194, 345, 279, 612, 40, 133, 284, 291, 789, 52, 88, 727, 406, 88, 134, 60, 293, 82, 75, 1138, 114, 97, 82, 109, 204, 204, 1352, 745, 258, 194, 345, 12, 71, 80, 252, 180, 243, 2398, 26, 24, 68, 20, 3, 3, 14, 8, 47, 25, 25, 28, 28, 28, 13, 26, 24, 68, 13, 10, 7, 16, 13, 3, 28, 25, 140, 7, 32, 25, 159, 21, 159, 29, 140, 23, 140, 7, 32, 8, 7, 17, 9, 10, 2, 399, 10, 7, 16, 14, 6, 5, 34, 309, 140, 7, 32, 34, 7, 17, 9, 6, 3, 7, 9, 20, 3, 3, 14, 8, 47, 25, 25, 28, 28, 28, 13, 34, 7, 17, 9, 6, 3, 7, 9, 13, 10, 7, 25, 10, 7, 16, 14, 6, 5, 4, 2, 8, 25, 8, 20, 7, 14, 11, 4, 5, 2, 25, 140, 7, 32, 8, 25, 29, 24, 99, 24, 165, 444, 249, 1691, 522, 212, 157, 412, 134, 1, 28, 4, 11, 11, 13, 10, 20, 6, 5, 21, 273, 8, 20, 7, 14, 11, 4, 5, 2, 6, 14, 14, 13, 10, 7, 16, 200, 311, 240, 244, 39, 38, 88, 97, 82, 18, 979, 12, 88, 109, 447, 90, 12, 75, 145, 78, 262, 90, 527, 35, 236, 251, 39, 38, 41, 234, 78, 267, 113, 82, 188, 194, 345, 23, 57, 1, 23, 2122, 1, 23, 23, 23, 2122, 55, 23, 23]]\n"
          ]
        }
      ]
    },
    {
      "cell_type": "code",
      "source": [
        "result = model.predict(t0)"
      ],
      "metadata": {
        "id": "RT_1sLUmoLqI"
      },
      "execution_count": null,
      "outputs": []
    },
    {
      "cell_type": "code",
      "source": [
        "# 呈現結果\n",
        "score = result*100\n",
        "\n",
        "if result[0]>0.6:\n",
        "    print(\"分數為: \",score,\"%\",\"判斷為符合!\")\n",
        "#\"分數為: \" + result[0] + \", \n",
        "else:\n",
        "    print(\"分數為: \",score,\"%\",\"判斷為不符合!\")\n"
      ],
      "metadata": {
        "colab": {
          "base_uri": "https://localhost:8080/"
        },
        "id": "1p3iHg9JoNnu",
        "outputId": "06a23234-0363-415b-87f5-42ea6599891d"
      },
      "execution_count": null,
      "outputs": [
        {
          "output_type": "stream",
          "name": "stdout",
          "text": [
            "分數為:  [[0.09675086]] % 判斷為不符合!\n"
          ]
        }
      ]
    },
    {
      "cell_type": "markdown",
      "metadata": {
        "id": "5_l0DgIV2wGL"
      },
      "source": [
        "# 模型結果展示 - Gradio"
      ]
    },
    {
      "cell_type": "markdown",
      "metadata": {
        "id": "EPyy6AxJFuI-"
      },
      "source": [
        "介面參考reference:<br>\n",
        "https://github.com/chuachinhon/gradio_nlp/blob/main/notebooks/1.0_gradio_sentiment.ipynb\n",
        "https://github.com/chuachinhon/gradio_nlp/blob/main/notebooks/3.0_gradio_series.ipynb\n",
        "https://towardsdatascience.com/building-nlp-web-apps-with-gradio-and-hugging-face-transformers-59ce8ab4a319"
      ]
    },
    {
      "cell_type": "markdown",
      "source": [
        "![螢幕擷取畫面 2022-01-11 095424.png](data:image/png;base64,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)"
      ],
      "metadata": {
        "id": "vxLOJWWS2OYl"
      }
    },
    {
      "cell_type": "markdown",
      "source": [
        "### 讀入訓練模型"
      ],
      "metadata": {
        "id": "_byYe_xyGzCB"
      }
    },
    {
      "cell_type": "code",
      "execution_count": null,
      "metadata": {
        "id": "d8OWGpuzBVFb"
      },
      "outputs": [],
      "source": [
        "!pip install -q gradio"
      ]
    },
    {
      "cell_type": "code",
      "execution_count": null,
      "metadata": {
        "id": "bh5tE7ZE2rKZ"
      },
      "outputs": [],
      "source": [
        "import gradio as gr\n",
        "from tensorflow.keras.models import load_model"
      ]
    },
    {
      "cell_type": "code",
      "execution_count": null,
      "metadata": {
        "id": "bpwp1ghpHlOr",
        "colab": {
          "base_uri": "https://localhost:8080/"
        },
        "outputId": "d703ff0d-02c1-4509-8dc6-aa4605d75d6e"
      },
      "outputs": [
        {
          "output_type": "stream",
          "name": "stdout",
          "text": [
            "Drive already mounted at /content/drive; to attempt to forcibly remount, call drive.mount(\"/content/drive\", force_remount=True).\n"
          ]
        }
      ],
      "source": [
        "# 讀入存下的 model\n",
        "from google.colab import drive\n",
        "drive.mount('/content/drive')"
      ]
    },
    {
      "cell_type": "code",
      "execution_count": null,
      "metadata": {
        "colab": {
          "base_uri": "https://localhost:8080/"
        },
        "id": "zAwMqNfdHy4R",
        "outputId": "186bb9d4-ca10-4a13-d4f3-fe93162db97a"
      },
      "outputs": [
        {
          "output_type": "stream",
          "name": "stdout",
          "text": [
            "/content/drive/MyDrive/Colab Notebooks\n"
          ]
        }
      ],
      "source": [
        "%cd '/content/drive/My Drive/Colab Notebooks'"
      ]
    },
    {
      "cell_type": "code",
      "execution_count": null,
      "metadata": {
        "id": "rX7hnx_ZH0vp"
      },
      "outputs": [],
      "source": [
        "model = load_model('model_0112')"
      ]
    },
    {
      "cell_type": "markdown",
      "source": [
        "### Gradio 版面設計"
      ],
      "metadata": {
        "id": "gtb__3o_G5w2"
      }
    },
    {
      "cell_type": "code",
      "source": [
        "# 預處理輸入文字\n",
        "def clean_test(text):\n",
        "  list1 = list(text)\n",
        "  text =\"\".join(list1)\n",
        "  list2=[]\n",
        "  list2.append(text)\n",
        "  ## tokenizer 轉換\n",
        "  testing = tokenizer.texts_to_sequences(list2)\n",
        "  testing = np.array(testing)\n",
        "  return testing"
      ],
      "metadata": {
        "id": "ed46B_e3IOg_"
      },
      "execution_count": null,
      "outputs": []
    },
    {
      "cell_type": "code",
      "source": [
        "# prediction\n",
        "def prediction(input_text):\n",
        "  input\n",
        "  result = model.predict(input_text)\n",
        "  return result[0]"
      ],
      "metadata": {
        "id": "yK335ifhLSGW"
      },
      "execution_count": null,
      "outputs": []
    },
    {
      "cell_type": "code",
      "execution_count": null,
      "metadata": {
        "id": "UIFR6c5xIzxR"
      },
      "outputs": [],
      "source": [
        "# 定義 output\n",
        "def recognize_JD(text):\n",
        "  input_text = clean_text(text)\n",
        "  prediction = model.predict(input_text)\n",
        "  ##result = list('判定為是','判定為非')\n",
        "  #results[0][\"result\"],\n",
        "  return  prediction[0],[\"Result\"]"
      ]
    },
    {
      "cell_type": "code",
      "source": [
        "# 定義 UI 介面\n",
        "gradio_ui = gr.Interface(\n",
        "    fn = recognize_JD,\n",
        "    title=\" JD Recognization\",\n",
        "    description=\"Enter some job descriptions and see if  model can recognize correctly :)\",\n",
        "    inputs=gr.inputs.Textbox(lines=10, label=\"Paste job description here!\"),\n",
        "    outputs= 'text'\n",
        ")"
      ],
      "metadata": {
        "id": "zi9WZVEFeWu-"
      },
      "execution_count": null,
      "outputs": []
    },
    {
      "cell_type": "code",
      "source": [
        "gradio_ui.launch()"
      ],
      "metadata": {
        "id": "YNa3stGXeYm0"
      },
      "execution_count": null,
      "outputs": []
    },
    {
      "cell_type": "markdown",
      "metadata": {
        "id": "qKNqM34x-ver"
      },
      "source": [
        "# 存檔\n",
        "\n",
        "把 model 和訓練權重分開存, 使用上更有彈性。"
      ]
    },
    {
      "cell_type": "code",
      "execution_count": null,
      "metadata": {
        "colab": {
          "base_uri": "https://localhost:8080/"
        },
        "id": "UkHz6PbACrg-",
        "outputId": "4cbe08f6-f691-4bca-8294-42e43d9abf8c"
      },
      "outputs": [
        {
          "output_type": "stream",
          "name": "stdout",
          "text": [
            "Drive already mounted at /content/drive; to attempt to forcibly remount, call drive.mount(\"/content/drive\", force_remount=True).\n"
          ]
        }
      ],
      "source": [
        "from google.colab import drive\n",
        "\n",
        "drive.mount('/content/drive')"
      ]
    },
    {
      "cell_type": "code",
      "execution_count": null,
      "metadata": {
        "colab": {
          "base_uri": "https://localhost:8080/"
        },
        "id": "2puuhaa-C0-Q",
        "outputId": "2b078cad-0062-4f14-e150-08550de76d48"
      },
      "outputs": [
        {
          "output_type": "stream",
          "name": "stdout",
          "text": [
            "/content/drive/MyDrive/Colab Notebooks\n"
          ]
        }
      ],
      "source": [
        "%cd '/content/drive/My Drive/Colab Notebooks'"
      ]
    },
    {
      "cell_type": "code",
      "execution_count": null,
      "metadata": {
        "id": "mjei9u930pAF"
      },
      "outputs": [],
      "source": [
        "model_json = model.to_json()\n",
        "open('final_model0112.json','w').write(model_json)\n",
        "model.save_weights('final_model_weight0112.h5')"
      ]
    }
  ],
  "metadata": {
    "accelerator": "GPU",
    "colab": {
      "collapsed_sections": [
        "PTCsRUM5VqGi",
        "oNEgiXMtpbZx",
        "8DTpoUqoVxjQ",
        "fq9ox3qmoksY",
        "7klpHaavWoCG",
        "gLw1t5YZ-vep",
        "7_s0X6DHA6A-",
        "O19zWWcl-veq",
        "aOwRdfJaJaC3",
        "Q8eBmtCYJibL",
        "UzLCX-dJn4fb"
      ],
      "provenance": [],
      "include_colab_link": true
    },
    "kernelspec": {
      "display_name": "Python 3",
      "language": "python",
      "name": "python3"
    },
    "language_info": {
      "codemirror_mode": {
        "name": "ipython",
        "version": 3
      },
      "file_extension": ".py",
      "mimetype": "text/x-python",
      "name": "python",
      "nbconvert_exporter": "python",
      "pygments_lexer": "ipython3",
      "version": "3.7.3"
    }
  },
  "nbformat": 4,
  "nbformat_minor": 0
}